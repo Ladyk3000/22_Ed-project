{
 "cells": [
  {
   "cell_type": "markdown",
   "metadata": {
    "collapsed": true,
    "pycharm": {
     "name": "#%% md\n"
    }
   },
   "source": [
    "# Product instance"
   ]
  },
  {
   "cell_type": "code",
   "execution_count": 5,
   "metadata": {
    "pycharm": {
     "name": "#%%\n"
    }
   },
   "outputs": [
    {
     "ename": "ModuleNotFoundError",
     "evalue": "No module named 'numba'",
     "output_type": "error",
     "traceback": [
      "\u001b[1;31m---------------------------------------------------------------------------\u001b[0m",
      "\u001b[1;31mModuleNotFoundError\u001b[0m                       Traceback (most recent call last)",
      "Input \u001b[1;32mIn [5]\u001b[0m, in \u001b[0;36m<cell line: 11>\u001b[1;34m()\u001b[0m\n\u001b[0;32m      9\u001b[0m \u001b[38;5;28;01mimport\u001b[39;00m \u001b[38;5;21;01msys\u001b[39;00m\n\u001b[0;32m     10\u001b[0m \u001b[38;5;28;01mfrom\u001b[39;00m \u001b[38;5;21;01mdatetime\u001b[39;00m \u001b[38;5;28;01mimport\u001b[39;00m date\n\u001b[1;32m---> 11\u001b[0m \u001b[38;5;28;01mfrom\u001b[39;00m \u001b[38;5;21;01mnumba\u001b[39;00m \u001b[38;5;28;01mimport\u001b[39;00m njit\n",
      "\u001b[1;31mModuleNotFoundError\u001b[0m: No module named 'numba'"
     ]
    }
   ],
   "source": [
    "import numpy as np\n",
    "import pandas as pd\n",
    "import matplotlib.pyplot as plt\n",
    "from scipy.stats import rayleigh, gilbrat, norm, truncnorm\n",
    "import seaborn as sns\n",
    "import random\n",
    "import time\n",
    "from datetime import datetime\n",
    "import sys\n",
    "from datetime import date\n",
    "from numba import njit"
   ]
  },
  {
   "cell_type": "code",
   "execution_count": null,
   "metadata": {
    "pycharm": {
     "name": "#%%\n"
    }
   },
   "outputs": [],
   "source": [
    "products = pd.read_csv('C:/Users/ivan-/Downloads/products (1).csv').set_index('id')\n",
    "products.head()"
   ]
  },
  {
   "cell_type": "code",
   "execution_count": 18,
   "metadata": {
    "pycharm": {
     "name": "#%%\n"
    }
   },
   "outputs": [
    {
     "name": "stdout",
     "output_type": "stream",
     "text": [
      "Unnamed: 0            10000\n",
      "Gender                10000\n",
      "First name            10000\n",
      "Last name             10000\n",
      "Date_of_birth         10000\n",
      "Agree_for_promo       10000\n",
      "autoplay_card         10000\n",
      "Customer_Email        10000\n",
      "MSISDN                10000\n",
      "Status                10000\n",
      "Category              10000\n",
      "Customer_Since        10000\n",
      "Region                10000\n",
      "Language              10000\n",
      "termination_date          0\n",
      "Customer_City         10000\n",
      "Customer_City_Type    10000\n",
      "dtype: int64\n"
     ]
    },
    {
     "data": {
      "text/html": [
       "<div>\n",
       "<style scoped>\n",
       "    .dataframe tbody tr th:only-of-type {\n",
       "        vertical-align: middle;\n",
       "    }\n",
       "\n",
       "    .dataframe tbody tr th {\n",
       "        vertical-align: top;\n",
       "    }\n",
       "\n",
       "    .dataframe thead th {\n",
       "        text-align: right;\n",
       "    }\n",
       "</style>\n",
       "<table border=\"1\" class=\"dataframe\">\n",
       "  <thead>\n",
       "    <tr style=\"text-align: right;\">\n",
       "      <th></th>\n",
       "      <th>Unnamed: 0</th>\n",
       "      <th>Gender</th>\n",
       "      <th>First name</th>\n",
       "      <th>Last name</th>\n",
       "      <th>Date_of_birth</th>\n",
       "      <th>Agree_for_promo</th>\n",
       "      <th>autoplay_card</th>\n",
       "      <th>Customer_Email</th>\n",
       "      <th>MSISDN</th>\n",
       "      <th>Status</th>\n",
       "      <th>Category</th>\n",
       "      <th>Customer_Since</th>\n",
       "      <th>Region</th>\n",
       "      <th>Language</th>\n",
       "      <th>termination_date</th>\n",
       "      <th>Customer_City</th>\n",
       "      <th>Customer_City_Type</th>\n",
       "    </tr>\n",
       "    <tr>\n",
       "      <th>Customer_ID</th>\n",
       "      <th></th>\n",
       "      <th></th>\n",
       "      <th></th>\n",
       "      <th></th>\n",
       "      <th></th>\n",
       "      <th></th>\n",
       "      <th></th>\n",
       "      <th></th>\n",
       "      <th></th>\n",
       "      <th></th>\n",
       "      <th></th>\n",
       "      <th></th>\n",
       "      <th></th>\n",
       "      <th></th>\n",
       "      <th></th>\n",
       "      <th></th>\n",
       "      <th></th>\n",
       "    </tr>\n",
       "  </thead>\n",
       "  <tbody>\n",
       "    <tr>\n",
       "      <th>2100</th>\n",
       "      <td>0</td>\n",
       "      <td>Male</td>\n",
       "      <td>Moinuddin</td>\n",
       "      <td>Khalidifamily</td>\n",
       "      <td>1987-04-09</td>\n",
       "      <td>No</td>\n",
       "      <td>No</td>\n",
       "      <td>MoinuddinKhalidifamily86@arasco.net.sa</td>\n",
       "      <td>+996-55-7242344</td>\n",
       "      <td>Active</td>\n",
       "      <td>Physical</td>\n",
       "      <td>2007-11-17</td>\n",
       "      <td>Riyadh</td>\n",
       "      <td>Arabic</td>\n",
       "      <td>NaN</td>\n",
       "      <td>Al-Bādah</td>\n",
       "      <td>town</td>\n",
       "    </tr>\n",
       "    <tr>\n",
       "      <th>4427</th>\n",
       "      <td>1</td>\n",
       "      <td>Male</td>\n",
       "      <td>Mehdi</td>\n",
       "      <td>Chakroun</td>\n",
       "      <td>2003-05-25</td>\n",
       "      <td>Yes</td>\n",
       "      <td>No</td>\n",
       "      <td>MehdiChakroun15@sahara.com.sa</td>\n",
       "      <td>+996-50-5733515</td>\n",
       "      <td>Inactive</td>\n",
       "      <td>Physical</td>\n",
       "      <td>2021-12-31</td>\n",
       "      <td>Eastern</td>\n",
       "      <td>Arabic</td>\n",
       "      <td>NaN</td>\n",
       "      <td>Makkah al-Mukarramah</td>\n",
       "      <td>city</td>\n",
       "    </tr>\n",
       "    <tr>\n",
       "      <th>5838</th>\n",
       "      <td>2</td>\n",
       "      <td>Male</td>\n",
       "      <td>Quddus</td>\n",
       "      <td>Al-Asiri</td>\n",
       "      <td>1986-11-25</td>\n",
       "      <td>No</td>\n",
       "      <td>No</td>\n",
       "      <td>QuddusAl-Asiri28@compuserve.com</td>\n",
       "      <td>+996-55-2539203</td>\n",
       "      <td>Active</td>\n",
       "      <td>Physical</td>\n",
       "      <td>2006-04-18</td>\n",
       "      <td>Najran</td>\n",
       "      <td>Arabic</td>\n",
       "      <td>NaN</td>\n",
       "      <td>Najrān</td>\n",
       "      <td>city</td>\n",
       "    </tr>\n",
       "    <tr>\n",
       "      <th>564</th>\n",
       "      <td>3</td>\n",
       "      <td>Female</td>\n",
       "      <td>Asma</td>\n",
       "      <td>Hayek</td>\n",
       "      <td>1974-09-29</td>\n",
       "      <td>No</td>\n",
       "      <td>No</td>\n",
       "      <td>AsmaHayek28@sahara.com.sa</td>\n",
       "      <td>+996-54-4885651</td>\n",
       "      <td>Inactive</td>\n",
       "      <td>Physical</td>\n",
       "      <td>2013-09-30</td>\n",
       "      <td>Mecca</td>\n",
       "      <td>Arabic</td>\n",
       "      <td>NaN</td>\n",
       "      <td>Tabūk</td>\n",
       "      <td>city</td>\n",
       "    </tr>\n",
       "    <tr>\n",
       "      <th>4479</th>\n",
       "      <td>4</td>\n",
       "      <td>Female</td>\n",
       "      <td>Lulwa</td>\n",
       "      <td>Al-Hashimi</td>\n",
       "      <td>1975-05-20</td>\n",
       "      <td>Yes</td>\n",
       "      <td>No</td>\n",
       "      <td>LulwaAl-Hashimi84@saudia-omline.com</td>\n",
       "      <td>+996-58-5100291</td>\n",
       "      <td>Active</td>\n",
       "      <td>Physical</td>\n",
       "      <td>2000-07-08</td>\n",
       "      <td>Tabuk</td>\n",
       "      <td>Arabic</td>\n",
       "      <td>NaN</td>\n",
       "      <td>Khamīs Mushaīṭ</td>\n",
       "      <td>city</td>\n",
       "    </tr>\n",
       "  </tbody>\n",
       "</table>\n",
       "</div>"
      ],
      "text/plain": [
       "             Unnamed: 0  Gender First name      Last name Date_of_birth  \\\n",
       "Customer_ID                                                               \n",
       "2100                  0    Male  Moinuddin  Khalidifamily    1987-04-09   \n",
       "4427                  1    Male      Mehdi       Chakroun    2003-05-25   \n",
       "5838                  2    Male     Quddus       Al-Asiri    1986-11-25   \n",
       "564                   3  Female       Asma          Hayek    1974-09-29   \n",
       "4479                  4  Female      Lulwa     Al-Hashimi    1975-05-20   \n",
       "\n",
       "            Agree_for_promo autoplay_card  \\\n",
       "Customer_ID                                 \n",
       "2100                     No            No   \n",
       "4427                    Yes            No   \n",
       "5838                     No            No   \n",
       "564                      No            No   \n",
       "4479                    Yes            No   \n",
       "\n",
       "                                     Customer_Email           MSISDN  \\\n",
       "Customer_ID                                                            \n",
       "2100         MoinuddinKhalidifamily86@arasco.net.sa  +996-55-7242344   \n",
       "4427                  MehdiChakroun15@sahara.com.sa  +996-50-5733515   \n",
       "5838                QuddusAl-Asiri28@compuserve.com  +996-55-2539203   \n",
       "564                       AsmaHayek28@sahara.com.sa  +996-54-4885651   \n",
       "4479            LulwaAl-Hashimi84@saudia-omline.com  +996-58-5100291   \n",
       "\n",
       "               Status  Category Customer_Since   Region Language  \\\n",
       "Customer_ID                                                        \n",
       "2100           Active  Physical     2007-11-17   Riyadh   Arabic   \n",
       "4427         Inactive  Physical     2021-12-31  Eastern   Arabic   \n",
       "5838           Active  Physical     2006-04-18   Najran   Arabic   \n",
       "564          Inactive  Physical     2013-09-30    Mecca   Arabic   \n",
       "4479           Active  Physical     2000-07-08    Tabuk   Arabic   \n",
       "\n",
       "             termination_date         Customer_City Customer_City_Type  \n",
       "Customer_ID                                                             \n",
       "2100                      NaN              Al-Bādah               town  \n",
       "4427                      NaN  Makkah al-Mukarramah               city  \n",
       "5838                      NaN                Najrān               city  \n",
       "564                       NaN                 Tabūk               city  \n",
       "4479                      NaN        Khamīs Mushaīṭ               city  "
      ]
     },
     "execution_count": 18,
     "metadata": {},
     "output_type": "execute_result"
    }
   ],
   "source": [
    "customers = pd.read_csv('C:/Users/ivan-/Downloads/Customers_last.csv').set_index('Customer_ID')\n",
    "print(customers.count())\n",
    "customers.head()"
   ]
  },
  {
   "cell_type": "code",
   "execution_count": 19,
   "metadata": {
    "pycharm": {
     "name": "#%%\n"
    }
   },
   "outputs": [],
   "source": [
    "# https://worldpopulationreview.com/countries/saudi-arabia-population\n",
    "population = 35678883\n",
    "female_percent = 42.6\n",
    "male_percent = 57.4\n",
    "# government stats https://www.stats.gov.sa/en/5305\n",
    "below_20_total = (2674932 + 2771032 + 2428319 + 2216050) / 31787580\n",
    "below_20_saudis_only = (2137185 + 2088919 + 1869325 + 1761027) / 20081582\n",
    "\n",
    "# https://www.gsma.com/publicpolicy/wp-content/uploads/2012/03/GSMA_ChildrensMobilePhones2013WEB.pdf\n",
    "children_with_smartphones = 70.5\n",
    "children_with_phones = 87.0\n",
    "children_used_phone_once = 6.7\n",
    "\n",
    "# https://www.itu.int/en/ITU-D/Regional-Presence/ArabStates/Documents/events/2018/Women/GSMA%20Connected%20Women%20Gender%20Gap%20Report%202018%20-%20Oliver%20Rowntree.pdf\n",
    "gender_gap_facebook = 70.0\n",
    "# https://www.mckinsey.com/~/media/mckinsey/industries/technology%20media%20and%20telecommunications/telecommunications/our%20insights/winning%20the%20rush%20for%20data%20services%20in%20the%20middle%20east%20and%20africa/telecommunications%20industry%20at%20cliffs%20edge%20time%20for%20bold%20decisions_june2016.pdf\n",
    "# Saudi Arabia has world’s highest rate of YouTube subscribers"
   ]
  },
  {
   "cell_type": "code",
   "execution_count": 20,
   "metadata": {
    "pycharm": {
     "name": "#%%\n"
    }
   },
   "outputs": [],
   "source": [
    "# https://datareportal.com/reports/digital-2021-saudi-arabia\n",
    "connections_per_user = 1.127\n",
    "total_connections = connections_per_user * population\n",
    "\n",
    "# Gender gap calculation: https://www.gsma.com/mobilefordevelopment/wp-content/uploads/2018/04/GSMA_The_Mobile_Gender_Gap_Report_2018_32pp_WEBv7.pdf\n",
    "mt = (population * male_percent / 100)\n",
    "ft = (population * female_percent / 100)\n",
    "\n",
    "\n",
    "mu = population / (1 + 0.76 * ft / mt)\n",
    "fu = 0.76 * ft * mu / mt\n",
    "\n",
    "female_connections = fu\n",
    "male_connections = total_connections - female_connections\n",
    "male_connections_percent = male_connections / total_connections\n",
    "female_connections_percent = female_connections / total_connections\n",
    "\n",
    "# https://theinclusiveinternet.eiu.com/explore/countries/SA/performance/indicators/affordability/competitive-environment/average-revenue-per-user-arpu-annualized\n",
    "annual_ARPU_in_dollars = 332\n",
    "saudi_riyal_to_dollars = 0.27\n",
    "# monthly expenditure\n",
    "mean_national_expenditure = annual_ARPU_in_dollars / 12 / saudi_riyal_to_dollars\n",
    "\n",
    "customers_number = customers.count()[0]\n",
    "# customers_number = 10000\n",
    "sample_connections = customers_number * connections_per_user\n",
    "male_size = int(sample_connections * male_connections_percent)\n",
    "female_size = int(sample_connections * female_connections_percent)\n",
    "\n",
    "# This value help the histogram look like th\n",
    "std = mean_national_expenditure * 0.572\n",
    "\n",
    "\n",
    "# the distribution of household expenditure for mobile phones: https://slideplayer.com/slide/17640605/\n",
    "# 50, 70, 1.3, 2 – coefficients that worked well so that the histogram looks similar to the known histogram and the mean is about the same as the known mean value\n",
    "# For more diverse range values, most primary belonging to men as they have many more jobs and much more income\n",
    "male_coef = int(customers_number * 0.1)\n",
    "\n",
    "male_expenditures = rayleigh.rvs(loc=mean_national_expenditure-50, scale=std/1.3, size=male_size - male_coef)\n",
    "female_expenditures = rayleigh.rvs(loc=mean_national_expenditure-70, scale=std/2, size=female_size)\n",
    "third_part_1 = np.random.uniform(size=int(0.45 * male_coef), low=34.5, high=650)\n",
    "third_part_2 = np.random.uniform(size=int(0.05 * male_coef), low=650, high=1200)\n",
    "fourth_part = norm.rvs(size=int(0.5 * male_coef), loc=mean_national_expenditure-60, scale=15)\n",
    "male_expenditures = np.concatenate([male_expenditures, third_part_1, third_part_2, fourth_part])\n",
    "\n",
    "male_expenditures[male_expenditures < 34.5] = 34.5\n",
    "female_expenditures[female_expenditures < 34.5] = 34.5\n",
    "total_expenditure = np.concatenate([male_expenditures, female_expenditures])\n",
    "np.random.shuffle(total_expenditure)"
   ]
  },
  {
   "cell_type": "code",
   "execution_count": 21,
   "metadata": {
    "pycharm": {
     "name": "#%%\n"
    }
   },
   "outputs": [
    {
     "name": "stdout",
     "output_type": "stream",
     "text": [
      "102.46913580246914\n",
      "105.98229477048477\n",
      "11269\n",
      "7663 3606 11269\n",
      "1.0\n"
     ]
    }
   ],
   "source": [
    "# A quick check with the known mean\n",
    "print(mean_national_expenditure)\n",
    "print(np.mean(total_expenditure))\n",
    "print(len(total_expenditure))\n",
    "print(male_size, female_size, male_size + female_size)\n",
    "print(male_connections_percent + female_connections_percent)"
   ]
  },
  {
   "cell_type": "code",
   "execution_count": 22,
   "metadata": {
    "pycharm": {
     "name": "#%%\n"
    }
   },
   "outputs": [
    {
     "name": "stdout",
     "output_type": "stream",
     "text": [
      "Freedman–Diaconis number of bins: 262\n"
     ]
    },
    {
     "data": {
      "text/plain": [
       "(array([284., 227., 276., 346., 401., 457., 506., 580., 524., 605., 549.,\n",
       "        551., 543., 511., 489., 477., 449., 371., 384., 331., 326., 229.,\n",
       "        223., 218., 165., 162., 135., 118.,  91.,  71.,  61.,  55.,  30.,\n",
       "         33.,  31.,  20.,  16.,   8.,  14.,   9.,  10.,   9.,   4.,   6.,\n",
       "          3.,  11.,   6.,   6.,   5.,   7.,   2.,   3.,   2.,   2.,   2.,\n",
       "          0.,   6.,   6.,   4.,   5.,   4.,   6.,   3.,   4.,   2.,   4.,\n",
       "          5.,   4.,   6.,   4.,   4.,   0.,   1.,   5.,   3.,   2.,   4.,\n",
       "          2.,   1.,   2.,   4.,   2.,   3.,   6.,   5.,   3.,   3.,   3.,\n",
       "          5.,   5.,   4.,   1.,   4.,   5.,   2.,   2.,   2.,   3.,   3.,\n",
       "          3.,   1.,   1.,   1.,   2.,   4.,   3.,   5.,   4.,   2.,   1.,\n",
       "          3.,   5.,   2.,   6.,   6.,   5.,   2.,   1.,   1.,   6.,   2.,\n",
       "          3.,   2.,   3.,   1.,   3.,   3.,   1.,   3.,   3.,   1.,   2.,\n",
       "          4.,   6.,   2.,   0.,   4.,   4.,   2.,   1.,   0.,   0.,   1.,\n",
       "          0.,   0.,   0.,   0.,   0.,   0.,   0.,   1.,   1.,   1.,   0.,\n",
       "          0.,   0.,   1.,   0.,   1.,   0.,   0.,   0.,   0.,   0.,   0.,\n",
       "          3.,   0.,   1.,   0.,   0.,   0.,   0.,   0.,   0.,   0.,   0.,\n",
       "          0.,   1.,   0.,   0.,   0.,   0.,   0.,   1.,   0.,   0.,   0.,\n",
       "          0.,   1.,   1.,   0.,   1.,   0.,   1.,   1.,   0.,   0.,   0.,\n",
       "          0.,   0.,   0.,   0.,   1.,   2.,   3.,   0.,   0.,   1.,   0.,\n",
       "          2.,   0.,   0.,   0.,   0.,   1.,   0.,   0.,   1.,   0.,   1.,\n",
       "          0.,   1.,   0.,   1.,   0.,   0.,   0.,   1.,   1.,   3.,   1.,\n",
       "          0.,   0.,   0.,   0.,   0.,   0.,   0.,   0.,   1.,   1.,   2.,\n",
       "          2.,   0.,   1.,   0.,   1.,   0.,   0.,   1.,   0.,   0.,   1.,\n",
       "          0.,   0.,   0.,   0.,   0.,   0.,   1.,   0.,   1.]),\n",
       " array([  34.5       ,   38.93400366,   43.36800731,   47.80201097,\n",
       "          52.23601462,   56.67001828,   61.10402194,   65.53802559,\n",
       "          69.97202925,   74.4060329 ,   78.84003656,   83.27404021,\n",
       "          87.70804387,   92.14204753,   96.57605118,  101.01005484,\n",
       "         105.44405849,  109.87806215,  114.31206581,  118.74606946,\n",
       "         123.18007312,  127.61407677,  132.04808043,  136.48208409,\n",
       "         140.91608774,  145.3500914 ,  149.78409505,  154.21809871,\n",
       "         158.65210236,  163.08610602,  167.52010968,  171.95411333,\n",
       "         176.38811699,  180.82212064,  185.2561243 ,  189.69012796,\n",
       "         194.12413161,  198.55813527,  202.99213892,  207.42614258,\n",
       "         211.86014624,  216.29414989,  220.72815355,  225.1621572 ,\n",
       "         229.59616086,  234.03016451,  238.46416817,  242.89817183,\n",
       "         247.33217548,  251.76617914,  256.20018279,  260.63418645,\n",
       "         265.06819011,  269.50219376,  273.93619742,  278.37020107,\n",
       "         282.80420473,  287.23820839,  291.67221204,  296.1062157 ,\n",
       "         300.54021935,  304.97422301,  309.40822666,  313.84223032,\n",
       "         318.27623398,  322.71023763,  327.14424129,  331.57824494,\n",
       "         336.0122486 ,  340.44625226,  344.88025591,  349.31425957,\n",
       "         353.74826322,  358.18226688,  362.61627054,  367.05027419,\n",
       "         371.48427785,  375.9182815 ,  380.35228516,  384.78628882,\n",
       "         389.22029247,  393.65429613,  398.08829978,  402.52230344,\n",
       "         406.95630709,  411.39031075,  415.82431441,  420.25831806,\n",
       "         424.69232172,  429.12632537,  433.56032903,  437.99433269,\n",
       "         442.42833634,  446.86234   ,  451.29634365,  455.73034731,\n",
       "         460.16435097,  464.59835462,  469.03235828,  473.46636193,\n",
       "         477.90036559,  482.33436924,  486.7683729 ,  491.20237656,\n",
       "         495.63638021,  500.07038387,  504.50438752,  508.93839118,\n",
       "         513.37239484,  517.80639849,  522.24040215,  526.6744058 ,\n",
       "         531.10840946,  535.54241312,  539.97641677,  544.41042043,\n",
       "         548.84442408,  553.27842774,  557.71243139,  562.14643505,\n",
       "         566.58043871,  571.01444236,  575.44844602,  579.88244967,\n",
       "         584.31645333,  588.75045699,  593.18446064,  597.6184643 ,\n",
       "         602.05246795,  606.48647161,  610.92047527,  615.35447892,\n",
       "         619.78848258,  624.22248623,  628.65648989,  633.09049354,\n",
       "         637.5244972 ,  641.95850086,  646.39250451,  650.82650817,\n",
       "         655.26051182,  659.69451548,  664.12851914,  668.56252279,\n",
       "         672.99652645,  677.4305301 ,  681.86453376,  686.29853742,\n",
       "         690.73254107,  695.16654473,  699.60054838,  704.03455204,\n",
       "         708.46855569,  712.90255935,  717.33656301,  721.77056666,\n",
       "         726.20457032,  730.63857397,  735.07257763,  739.50658129,\n",
       "         743.94058494,  748.3745886 ,  752.80859225,  757.24259591,\n",
       "         761.67659957,  766.11060322,  770.54460688,  774.97861053,\n",
       "         779.41261419,  783.84661784,  788.2806215 ,  792.71462516,\n",
       "         797.14862881,  801.58263247,  806.01663612,  810.45063978,\n",
       "         814.88464344,  819.31864709,  823.75265075,  828.1866544 ,\n",
       "         832.62065806,  837.05466172,  841.48866537,  845.92266903,\n",
       "         850.35667268,  854.79067634,  859.22467999,  863.65868365,\n",
       "         868.09268731,  872.52669096,  876.96069462,  881.39469827,\n",
       "         885.82870193,  890.26270559,  894.69670924,  899.1307129 ,\n",
       "         903.56471655,  907.99872021,  912.43272387,  916.86672752,\n",
       "         921.30073118,  925.73473483,  930.16873849,  934.60274214,\n",
       "         939.0367458 ,  943.47074946,  947.90475311,  952.33875677,\n",
       "         956.77276042,  961.20676408,  965.64076774,  970.07477139,\n",
       "         974.50877505,  978.9427787 ,  983.37678236,  987.81078602,\n",
       "         992.24478967,  996.67879333, 1001.11279698, 1005.54680064,\n",
       "        1009.98080429, 1014.41480795, 1018.84881161, 1023.28281526,\n",
       "        1027.71681892, 1032.15082257, 1036.58482623, 1041.01882989,\n",
       "        1045.45283354, 1049.8868372 , 1054.32084085, 1058.75484451,\n",
       "        1063.18884817, 1067.62285182, 1072.05685548, 1076.49085913,\n",
       "        1080.92486279, 1085.35886645, 1089.7928701 , 1094.22687376,\n",
       "        1098.66087741, 1103.09488107, 1107.52888472, 1111.96288838,\n",
       "        1116.39689204, 1120.83089569, 1125.26489935, 1129.698903  ,\n",
       "        1134.13290666, 1138.56691032, 1143.00091397, 1147.43491763,\n",
       "        1151.86892128, 1156.30292494, 1160.7369286 , 1165.17093225,\n",
       "        1169.60493591, 1174.03893956, 1178.47294322, 1182.90694687,\n",
       "        1187.34095053, 1191.77495419, 1196.20895784]),\n",
       " <BarContainer object of 262 artists>)"
      ]
     },
     "execution_count": 22,
     "metadata": {},
     "output_type": "execute_result"
    },
    {
     "data": {
      "image/png": "[encoded data removed]",
      "text/plain": [
       "<Figure size 432x288 with 1 Axes>"
      ]
     },
     "metadata": {
      "needs_background": "light"
     },
     "output_type": "display_data"
    }
   ],
   "source": [
    "# calculate the number of bins\n",
    "def find_bins_number(ndarr):\n",
    "    q25, q75 = np.percentile(ndarr, [25, 75])\n",
    "    bin_width = 2 * (q75 - q25) * len(ndarr) ** (-1/3)\n",
    "    bins = round((ndarr.max() - ndarr.min()) / bin_width)\n",
    "    print(\"Freedman–Diaconis number of bins:\", bins)\n",
    "    return bins\n",
    "\n",
    "# plot\n",
    "bins = find_bins_number(total_expenditure)\n",
    "plt.hist(total_expenditure, bins=bins)"
   ]
  },
  {
   "cell_type": "code",
   "execution_count": 23,
   "metadata": {
    "pycharm": {
     "name": "#%%\n"
    }
   },
   "outputs": [
    {
     "data": {
      "text/plain": [
       "<seaborn.axisgrid.FacetGrid at 0x2bb149b0e80>"
      ]
     },
     "execution_count": 23,
     "metadata": {},
     "output_type": "execute_result"
    },
    {
     "data": {
      "image/png": "[encoded data removed]",
      "text/plain": [
       "<Figure size 360x360 with 1 Axes>"
      ]
     },
     "metadata": {
      "needs_background": "light"
     },
     "output_type": "display_data"
    }
   ],
   "source": [
    "# probability plot\n",
    "sns.displot(total_expenditure[total_expenditure <= 1200], stat='probability', bins=50)"
   ]
  },
  {
   "cell_type": "code",
   "execution_count": 24,
   "metadata": {
    "pycharm": {
     "name": "#%%\n"
    }
   },
   "outputs": [
    {
     "name": "stdout",
     "output_type": "stream",
     "text": [
      "11269 11269\n"
     ]
    },
    {
     "data": {
      "text/html": [
       "<div>\n",
       "<style scoped>\n",
       "    .dataframe tbody tr th:only-of-type {\n",
       "        vertical-align: middle;\n",
       "    }\n",
       "\n",
       "    .dataframe tbody tr th {\n",
       "        vertical-align: top;\n",
       "    }\n",
       "\n",
       "    .dataframe thead th {\n",
       "        text-align: right;\n",
       "    }\n",
       "</style>\n",
       "<table border=\"1\" class=\"dataframe\">\n",
       "  <thead>\n",
       "    <tr style=\"text-align: right;\">\n",
       "      <th></th>\n",
       "      <th>id</th>\n",
       "      <th>gender</th>\n",
       "      <th>expenditure</th>\n",
       "      <th>tariff_id</th>\n",
       "    </tr>\n",
       "  </thead>\n",
       "  <tbody>\n",
       "    <tr>\n",
       "      <th>0</th>\n",
       "      <td>0</td>\n",
       "      <td>male</td>\n",
       "      <td>97.377203</td>\n",
       "      <td>-1</td>\n",
       "    </tr>\n",
       "    <tr>\n",
       "      <th>1</th>\n",
       "      <td>1</td>\n",
       "      <td>male</td>\n",
       "      <td>96.697448</td>\n",
       "      <td>-1</td>\n",
       "    </tr>\n",
       "    <tr>\n",
       "      <th>2</th>\n",
       "      <td>2</td>\n",
       "      <td>male</td>\n",
       "      <td>87.381712</td>\n",
       "      <td>-1</td>\n",
       "    </tr>\n",
       "    <tr>\n",
       "      <th>3</th>\n",
       "      <td>3</td>\n",
       "      <td>male</td>\n",
       "      <td>130.553570</td>\n",
       "      <td>-1</td>\n",
       "    </tr>\n",
       "    <tr>\n",
       "      <th>4</th>\n",
       "      <td>4</td>\n",
       "      <td>male</td>\n",
       "      <td>130.305421</td>\n",
       "      <td>-1</td>\n",
       "    </tr>\n",
       "  </tbody>\n",
       "</table>\n",
       "</div>"
      ],
      "text/plain": [
       "   id gender  expenditure  tariff_id\n",
       "0   0   male    97.377203         -1\n",
       "1   1   male    96.697448         -1\n",
       "2   2   male    87.381712         -1\n",
       "3   3   male   130.553570         -1\n",
       "4   4   male   130.305421         -1"
      ]
     },
     "execution_count": 24,
     "metadata": {},
     "output_type": "execute_result"
    }
   ],
   "source": [
    "# The start of DataFrame creation\n",
    "ids = np.arange(len(total_expenditure))\n",
    "gender = np.hstack((np.array(['male'] * male_size), np.array(['female'] * female_size)))\n",
    "expenditures = np.hstack((male_expenditures, female_expenditures))\n",
    "tariff = np.array([-1] * len(total_expenditure))\n",
    "\n",
    "print(len(gender), len(expenditures))\n",
    "table = pd.DataFrame({'id': ids, 'gender': gender, 'expenditure': expenditures, 'tariff_id': tariff})\n",
    "table.head()"
   ]
  },
  {
   "cell_type": "code",
   "execution_count": 25,
   "metadata": {
    "pycharm": {
     "name": "#%%\n"
    }
   },
   "outputs": [
    {
     "name": "stdout",
     "output_type": "stream",
     "text": [
      "[1461, 180, 148, 110, 187, 96, 3]\n"
     ]
    }
   ],
   "source": [
    "# Data-only sims assignment\n",
    "# https://www.refworld.org/pdfid/502a0c51a.pdf\n",
    "data_only_subscriptions = 7.8 * 10 ** 6\n",
    "data_only_subscriptions_percent = data_only_subscriptions / total_connections\n",
    "data_only_in_dataset = int(len(total_expenditure) * data_only_subscriptions_percent)\n",
    "\n",
    "# Generate frequency of different data-only plans by gilbrat distribution\n",
    "s = gilbrat.rvs(loc=mean_national_expenditure-50, scale=60, size=data_only_in_dataset)\n",
    "s_len = len(s)\n",
    "\n",
    "\n",
    "data_ids = [5, 7, 6, 8, 3, 4]\n",
    "data_only_prices = [148, 171, 201, 230, 391, 1121]\n",
    "\n",
    "\n",
    "lengths = []\n",
    "lengths.append(len(s[s < data_only_prices[0]]))\n",
    "for i in range(len(data_only_prices) - 1):\n",
    "    lengths.append(len(s[(s >= data_only_prices[i]) & (s < data_only_prices[i + 1])]))\n",
    "lengths.append(len(s[s >= data_only_prices[-1]]))\n",
    "print(lengths)\n",
    "\n",
    "# Finally, assignment\n",
    "table=table.sort_values(by=['expenditure']).reset_index(drop=True)\n",
    "table.iloc[-lengths[-1]:, 3] = data_ids[-1]\n",
    "table.iloc[-lengths[-1]:, 2] = data_only_prices[-1]\n",
    "\n",
    "for data_id, data_price, length in (list(zip(data_ids, data_only_prices, lengths))[-2::-1]):\n",
    "    # print(data_id, data_price, length)\n",
    "    # df = \\\n",
    "    condition_1 = table['expenditure'] <= data_price\n",
    "    ind = table[table['expenditure'] <= data_price].index[-1]\n",
    "    condition_2 = table.index <= ind\n",
    "    cond_3 = ind - length < table.index\n",
    "    table.iloc[(condition_1 & condition_2 & cond_3).values, 3] = data_id\n",
    "    table.iloc[(condition_1 & condition_2 & cond_3).values, 2] = data_price"
   ]
  },
  {
   "cell_type": "code",
   "execution_count": 26,
   "metadata": {
    "pycharm": {
     "name": "#%%\n"
    }
   },
   "outputs": [
    {
     "name": "stdout",
     "output_type": "stream",
     "text": [
      "id             2089\n",
      "gender         2089\n",
      "expenditure    2089\n",
      "tariff_id      2089\n",
      "dtype: int64\n",
      "2185\n",
      "id             11269\n",
      "gender         11269\n",
      "expenditure    11269\n",
      "tariff_id      11269\n",
      "dtype: int64\n"
     ]
    }
   ],
   "source": [
    "print(table[table.tariff_id != -1].count())\n",
    "print(data_only_in_dataset)\n",
    "print(table.count())"
   ]
  },
  {
   "cell_type": "code",
   "execution_count": 27,
   "metadata": {
    "pycharm": {
     "name": "#%%\n"
    }
   },
   "outputs": [
    {
     "name": "stdout",
     "output_type": "stream",
     "text": [
      "id             0\n",
      "gender         0\n",
      "expenditure    0\n",
      "tariff_id      0\n",
      "dtype: int64\n"
     ]
    }
   ],
   "source": [
    "# Prepaid/postpaid tariffs assignment\n",
    "# Frequences according to the graph\n",
    "prepaid_subscriptions_f = 0.75\n",
    "postpaid_subscriptions_f = 0.25\n",
    "\n",
    "# https://data.worldbank.org/indicator/SL.TLF.TOTL.FE.ZS?locations=SA\n",
    "# male_labor_force = 0.79124\n",
    "# female_labor_force = 0.20876\n",
    "\n",
    "# Since there is no way to know the rate of postpaid among genders/age groups, etc, the postpaid are given out randomly\n",
    "# indexes are chosen arbitrarily\n",
    "df = table[(table['expenditure'] >= 80.5) & (table['tariff_id'] == -1)]\n",
    "postpaid_num_1 = random.sample(list(df.index), int(df.count()[0] * postpaid_subscriptions_f * 0.95))\n",
    "table.iloc[[postpaid_num_1], 3] = 24\n",
    "\n",
    "df2 = table[(table['expenditure'] >= 571.5) & (table['tariff_id'] == -1)]\n",
    "postpaid_num_2 = random.sample(list(df2.index), int(df.count()[0] * postpaid_subscriptions_f * 0.05))\n",
    "table.iloc[[postpaid_num_2], 3] = 25\n",
    "\n",
    "# df3 = table[(table['expenditure'] >= 253.0) & (table['tariff_id'] == -1)]\n",
    "\n",
    "table.iloc[((table['expenditure'] >= 126.5) & (table['tariff_id'] == -1)).values, 3] = 1\n",
    "table.iloc[((table['expenditure'] >= 253.0) & (table['tariff_id'] == -1)).values, 3] = 2\n",
    "table.iloc[(table['tariff_id'] == -1).values, 3] = 0\n",
    "print(table[table.tariff_id == -1].count())"
   ]
  },
  {
   "cell_type": "code",
   "execution_count": 28,
   "metadata": {
    "pycharm": {
     "name": "#%%\n"
    }
   },
   "outputs": [
    {
     "name": "stderr",
     "output_type": "stream",
     "text": [
      "c:\\python\\lib\\site-packages\\pandas\\core\\arrays\\datetimelike.py:1187: PerformanceWarning: Adding/subtracting object-dtype array to DatetimeArray not vectorized\n",
      "  warnings.warn(\n"
     ]
    },
    {
     "data": {
      "text/html": [
       "<div>\n",
       "<style scoped>\n",
       "    .dataframe tbody tr th:only-of-type {\n",
       "        vertical-align: middle;\n",
       "    }\n",
       "\n",
       "    .dataframe tbody tr th {\n",
       "        vertical-align: top;\n",
       "    }\n",
       "\n",
       "    .dataframe thead th {\n",
       "        text-align: right;\n",
       "    }\n",
       "</style>\n",
       "<table border=\"1\" class=\"dataframe\">\n",
       "  <thead>\n",
       "    <tr style=\"text-align: right;\">\n",
       "      <th></th>\n",
       "      <th>customer_id</th>\n",
       "      <th>product_id</th>\n",
       "      <th>expenditure</th>\n",
       "      <th>activation_date</th>\n",
       "      <th>termination_date</th>\n",
       "      <th>distribution_channel</th>\n",
       "      <th>status</th>\n",
       "    </tr>\n",
       "  </thead>\n",
       "  <tbody>\n",
       "    <tr>\n",
       "      <th>0</th>\n",
       "      <td>8</td>\n",
       "      <td>1</td>\n",
       "      <td>149.424295</td>\n",
       "      <td>2021-07-28</td>\n",
       "      <td>2021-11-07 00:00:00</td>\n",
       "      <td>online</td>\n",
       "      <td>active</td>\n",
       "    </tr>\n",
       "    <tr>\n",
       "      <th>1</th>\n",
       "      <td>30</td>\n",
       "      <td>5</td>\n",
       "      <td>148.000000</td>\n",
       "      <td>2019-07-08</td>\n",
       "      <td>2019-08-07 00:00:00</td>\n",
       "      <td>physical_store</td>\n",
       "      <td>active</td>\n",
       "    </tr>\n",
       "    <tr>\n",
       "      <th>2</th>\n",
       "      <td>33</td>\n",
       "      <td>5</td>\n",
       "      <td>148.000000</td>\n",
       "      <td>2020-09-01</td>\n",
       "      <td>2020-10-01 00:00:00</td>\n",
       "      <td>online</td>\n",
       "      <td>active</td>\n",
       "    </tr>\n",
       "    <tr>\n",
       "      <th>3</th>\n",
       "      <td>54</td>\n",
       "      <td>5</td>\n",
       "      <td>148.000000</td>\n",
       "      <td>2019-10-05</td>\n",
       "      <td>2019-11-04 00:00:00</td>\n",
       "      <td>physical_store</td>\n",
       "      <td>active</td>\n",
       "    </tr>\n",
       "    <tr>\n",
       "      <th>4</th>\n",
       "      <td>57</td>\n",
       "      <td>5</td>\n",
       "      <td>148.000000</td>\n",
       "      <td>2020-10-17</td>\n",
       "      <td>2020-11-16 00:00:00</td>\n",
       "      <td>physical_store</td>\n",
       "      <td>active</td>\n",
       "    </tr>\n",
       "  </tbody>\n",
       "</table>\n",
       "</div>"
      ],
      "text/plain": [
       "   customer_id  product_id  expenditure activation_date     termination_date  \\\n",
       "0            8           1   149.424295      2021-07-28  2021-11-07 00:00:00   \n",
       "1           30           5   148.000000      2019-07-08  2019-08-07 00:00:00   \n",
       "2           33           5   148.000000      2020-09-01  2020-10-01 00:00:00   \n",
       "3           54           5   148.000000      2019-10-05  2019-11-04 00:00:00   \n",
       "4           57           5   148.000000      2020-10-17  2020-11-16 00:00:00   \n",
       "\n",
       "  distribution_channel  status  \n",
       "0               online  active  \n",
       "1       physical_store  active  \n",
       "2               online  active  \n",
       "3       physical_store  active  \n",
       "4       physical_store  active  "
      ]
     },
     "execution_count": 28,
     "metadata": {},
     "output_type": "execute_result"
    }
   ],
   "source": [
    "# PRODUCT INSTANCE CREATION\n",
    "# This is used for the situation when the customers table is not fully formed\n",
    "# customers_0 = customers.copy()\n",
    "# for i in range(199):\n",
    "#     customers_0 = pd.concat([customers_0, customers.copy()], axis=0)\n",
    "# customers_2 = customers_0.sort_values(by=['Gender', 'Category']).reset_index(drop=True)\n",
    "\n",
    "customers_2 = customers.sort_values(by=['Gender', 'Category']).reset_index(drop=True)\n",
    "table_2 = table.sort_values(by=['gender', 'expenditure'], ascending=[True, False]).reset_index(drop=True)\n",
    "\n",
    "product_instances_1 = pd.DataFrame({\n",
    "    'customer_id': customers_2['Unnamed: 0'],\n",
    "    'product_id': table_2.iloc[:customers_2.count()[0], 3],\n",
    "    'expenditure': table_2.iloc[:customers_2.count()[0], 2]\n",
    "})\n",
    "\n",
    "# using males from the end\n",
    "start_index = table_2.count()[0] - customers_2.count()[0]\n",
    "product_instances_2 = pd.DataFrame({\n",
    "    'customer_id': customers_2.iloc[-start_index:, 0].values,\n",
    "    'product_id': table_2.iloc[customers_2.count()[0]:, 3],\n",
    "    'expenditure': table_2.iloc[customers_2.count()[0]:, 2]\n",
    "})\n",
    "product_instances = pd.concat([product_instances_1, product_instances_2], axis=0)\n",
    "\n",
    "# Activation date\n",
    "def str_time_prop(start, end, time_format, prop):\n",
    "    stime = time.mktime(time.strptime(start, time_format))\n",
    "    etime = time.mktime(time.strptime(end, time_format))\n",
    "    ptime = stime + prop * (etime - stime)\n",
    "    return time.strftime(time_format, time.localtime(ptime))\n",
    "\n",
    "def random_date(start, end, prop):\n",
    "    return str_time_prop(start, end, '%Y-%m-%d', prop)\n",
    "\n",
    "dates = []\n",
    "for _ in range(product_instances.count()[0]):\n",
    "    dates.append(random_date(\"2018-01-01\", str(date.today()), random.random()))\n",
    "product_instances['activation_date'] = pd.Series(dates)\n",
    "\n",
    "# Termination date\n",
    "product_instances['termination_date'] = np.nan\n",
    "not_recurrent = products[(products['recurrent'] == False) & (products['duration'] == 30)]\n",
    "product_instances.iloc[product_instances['product_id'].isin(not_recurrent.index).values, 4] = pd.to_datetime(product_instances.iloc[product_instances['product_id'].isin(not_recurrent.index).values, 3]) + pd.DateOffset(days=30)\n",
    "\n",
    "not_recurrent = products[(products['recurrent'] == False) & (products['duration'] == 90)]\n",
    "product_instances.iloc[product_instances['product_id'].isin(not_recurrent.index).values, 4] = pd.to_datetime(product_instances.iloc[product_instances['product_id'].isin(not_recurrent.index).values, 3]) + pd.DateOffset(days=90)\n",
    "\n",
    "recurrent = products[(products['recurrent'] == True)]\n",
    "days_to_add = np.random.randint(90, 300, product_instances.loc[(product_instances['product_id'].isin(recurrent.index).values), 'activation_date'].count())\n",
    "days_to_add = np.array(pd.Series(days_to_add).apply(lambda d: pd.DateOffset(days=d)))\n",
    "product_instances.iloc[product_instances['product_id'].isin(recurrent.index).values, 4] = pd.to_datetime(product_instances.loc[product_instances['product_id'].isin(recurrent.index), 'activation_date']) + days_to_add\n",
    "\n",
    "# Online sales of telecom services account for only one-fifth of all sales. Source: https://www.kearney.com/communications-media-technology/article/?/a/the-telecom-consumer-of-the-future\n",
    "product_instances['distribution_channel'] = np.random.choice(['physical_store', 'online'], size=product_instances.count()[0], p=[0.8, 0.2])\n",
    "product_instances['status'] = 'active'\n",
    "\n",
    "product_instances.head()"
   ]
  },
  {
   "cell_type": "markdown",
   "metadata": {
    "pycharm": {
     "name": "#%% md\n"
    }
   },
   "source": [
    "\n",
    "## Internet and calling activity\n",
    "Source: The Influence of Social Norms on Synchronous versus Asynchronous Communication Technologies, Almaatouq et al.\n",
    "![Calling activity](Mobile-phone-call-activity-in-Dammam-Riyadh-and-Jeddah.png)\n",
    "\n"
   ]
  },
  {
   "cell_type": "code",
   "execution_count": 29,
   "metadata": {
    "pycharm": {
     "name": "#%%\n"
    }
   },
   "outputs": [],
   "source": [
    "size = 100000\n",
    "def activity_distribution_generation(size):\n",
    "    distributions = [\n",
    "        truncnorm.rvs(1, 7, loc=-2, scale=2, size=int(0.085*size)),\n",
    "        truncnorm.rvs(-7, 0.48, loc=12, scale=2, size=int(0.203*size)),\n",
    "        truncnorm.rvs(0, 0.74, loc=13, scale=4, size=int(0.17*size)),\n",
    "        truncnorm.rvs(-0.75, 0, loc=17.5, scale=2, size=int(0.101*size)),\n",
    "        truncnorm.rvs(-0.13, 0.66, loc=18, scale=3, size=int(0.17*size))\n",
    "    ]\n",
    "    left_length = size - sum([len(x) for x in distributions])\n",
    "    last_part = truncnorm.rvs(0, 1, loc=20, scale=4, size=left_length)\n",
    "    distributions.append(last_part)\n",
    "    total_uses = np.concatenate(distributions)\n",
    "    return total_uses"
   ]
  },
  {
   "cell_type": "code",
   "execution_count": 30,
   "metadata": {
    "pycharm": {
     "name": "#%%\n"
    }
   },
   "outputs": [
    {
     "ename": "AttributeError",
     "evalue": "'PolyCollection' object has no property 'Label'",
     "output_type": "error",
     "traceback": [
      "\u001b[1;31m---------------------------------------------------------------------------\u001b[0m",
      "\u001b[1;31mAttributeError\u001b[0m                            Traceback (most recent call last)",
      "\u001b[1;32m~\\AppData\\Local\\Temp/ipykernel_12296/3806174247.py\u001b[0m in \u001b[0;36m<module>\u001b[1;34m\u001b[0m\n\u001b[0;32m      1\u001b[0m \u001b[0mtotal_uses\u001b[0m \u001b[1;33m=\u001b[0m \u001b[0mactivity_distribution_generation\u001b[0m\u001b[1;33m(\u001b[0m\u001b[0msize\u001b[0m\u001b[1;33m)\u001b[0m\u001b[1;33m\u001b[0m\u001b[1;33m\u001b[0m\u001b[0m\n\u001b[1;32m----> 2\u001b[1;33m \u001b[0mg\u001b[0m \u001b[1;33m=\u001b[0m \u001b[0msns\u001b[0m\u001b[1;33m.\u001b[0m\u001b[0mkdeplot\u001b[0m\u001b[1;33m(\u001b[0m\u001b[0mtotal_uses\u001b[0m\u001b[1;33m,\u001b[0m \u001b[0mcolor\u001b[0m\u001b[1;33m=\u001b[0m\u001b[1;34m'b'\u001b[0m\u001b[1;33m,\u001b[0m \u001b[0mshade\u001b[0m\u001b[1;33m=\u001b[0m\u001b[1;32mTrue\u001b[0m\u001b[1;33m,\u001b[0m \u001b[0mLabel\u001b[0m\u001b[1;33m=\u001b[0m\u001b[1;34m'Iris_Virginica'\u001b[0m\u001b[1;33m,\u001b[0m \u001b[0mcut\u001b[0m\u001b[1;33m=\u001b[0m\u001b[1;36m0\u001b[0m\u001b[1;33m,\u001b[0m \u001b[0mbw_adjust\u001b[0m\u001b[1;33m=\u001b[0m\u001b[1;36m0.2\u001b[0m\u001b[1;33m)\u001b[0m\u001b[1;33m\u001b[0m\u001b[1;33m\u001b[0m\u001b[0m\n\u001b[0m\u001b[0;32m      3\u001b[0m \u001b[0mg\u001b[0m\u001b[1;33m.\u001b[0m\u001b[0mset_xticks\u001b[0m\u001b[1;33m(\u001b[0m\u001b[0mrange\u001b[0m\u001b[1;33m(\u001b[0m\u001b[1;36m0\u001b[0m\u001b[1;33m,\u001b[0m \u001b[1;36m25\u001b[0m\u001b[1;33m,\u001b[0m \u001b[1;36m2\u001b[0m\u001b[1;33m)\u001b[0m\u001b[1;33m)\u001b[0m\u001b[1;33m\u001b[0m\u001b[1;33m\u001b[0m\u001b[0m\n\u001b[0;32m      4\u001b[0m \u001b[0mg\u001b[0m\u001b[1;33m.\u001b[0m\u001b[0mset_xticklabels\u001b[0m\u001b[1;33m(\u001b[0m\u001b[1;33m[\u001b[0m\u001b[0mstr\u001b[0m\u001b[1;33m(\u001b[0m\u001b[0mx\u001b[0m\u001b[1;33m)\u001b[0m \u001b[1;32mfor\u001b[0m \u001b[0mx\u001b[0m \u001b[1;32min\u001b[0m \u001b[0mrange\u001b[0m\u001b[1;33m(\u001b[0m\u001b[1;36m0\u001b[0m\u001b[1;33m,\u001b[0m \u001b[1;36m25\u001b[0m\u001b[1;33m,\u001b[0m \u001b[1;36m2\u001b[0m\u001b[1;33m)\u001b[0m\u001b[1;33m]\u001b[0m\u001b[1;33m)\u001b[0m\u001b[1;33m\u001b[0m\u001b[1;33m\u001b[0m\u001b[0m\n\u001b[0;32m      5\u001b[0m \u001b[0mg\u001b[0m\u001b[1;33m\u001b[0m\u001b[1;33m\u001b[0m\u001b[0m\n",
      "\u001b[1;32mc:\\python\\lib\\site-packages\\seaborn\\_decorators.py\u001b[0m in \u001b[0;36minner_f\u001b[1;34m(*args, **kwargs)\u001b[0m\n\u001b[0;32m     44\u001b[0m             )\n\u001b[0;32m     45\u001b[0m         \u001b[0mkwargs\u001b[0m\u001b[1;33m.\u001b[0m\u001b[0mupdate\u001b[0m\u001b[1;33m(\u001b[0m\u001b[1;33m{\u001b[0m\u001b[0mk\u001b[0m\u001b[1;33m:\u001b[0m \u001b[0marg\u001b[0m \u001b[1;32mfor\u001b[0m \u001b[0mk\u001b[0m\u001b[1;33m,\u001b[0m \u001b[0marg\u001b[0m \u001b[1;32min\u001b[0m \u001b[0mzip\u001b[0m\u001b[1;33m(\u001b[0m\u001b[0msig\u001b[0m\u001b[1;33m.\u001b[0m\u001b[0mparameters\u001b[0m\u001b[1;33m,\u001b[0m \u001b[0margs\u001b[0m\u001b[1;33m)\u001b[0m\u001b[1;33m}\u001b[0m\u001b[1;33m)\u001b[0m\u001b[1;33m\u001b[0m\u001b[1;33m\u001b[0m\u001b[0m\n\u001b[1;32m---> 46\u001b[1;33m         \u001b[1;32mreturn\u001b[0m \u001b[0mf\u001b[0m\u001b[1;33m(\u001b[0m\u001b[1;33m**\u001b[0m\u001b[0mkwargs\u001b[0m\u001b[1;33m)\u001b[0m\u001b[1;33m\u001b[0m\u001b[1;33m\u001b[0m\u001b[0m\n\u001b[0m\u001b[0;32m     47\u001b[0m     \u001b[1;32mreturn\u001b[0m \u001b[0minner_f\u001b[0m\u001b[1;33m\u001b[0m\u001b[1;33m\u001b[0m\u001b[0m\n\u001b[0;32m     48\u001b[0m \u001b[1;33m\u001b[0m\u001b[0m\n",
      "\u001b[1;32mc:\\python\\lib\\site-packages\\seaborn\\distributions.py\u001b[0m in \u001b[0;36mkdeplot\u001b[1;34m(x, y, shade, vertical, kernel, bw, gridsize, cut, clip, legend, cumulative, shade_lowest, cbar, cbar_ax, cbar_kws, ax, weights, hue, palette, hue_order, hue_norm, multiple, common_norm, common_grid, levels, thresh, bw_method, bw_adjust, log_scale, color, fill, data, data2, warn_singular, **kwargs)\u001b[0m\n\u001b[0;32m   1768\u001b[0m             \u001b[0mplot_kws\u001b[0m\u001b[1;33m[\u001b[0m\u001b[1;34m\"color\"\u001b[0m\u001b[1;33m]\u001b[0m \u001b[1;33m=\u001b[0m \u001b[0mcolor\u001b[0m\u001b[1;33m\u001b[0m\u001b[1;33m\u001b[0m\u001b[0m\n\u001b[0;32m   1769\u001b[0m \u001b[1;33m\u001b[0m\u001b[0m\n\u001b[1;32m-> 1770\u001b[1;33m         p.plot_univariate_density(\n\u001b[0m\u001b[0;32m   1771\u001b[0m             \u001b[0mmultiple\u001b[0m\u001b[1;33m=\u001b[0m\u001b[0mmultiple\u001b[0m\u001b[1;33m,\u001b[0m\u001b[1;33m\u001b[0m\u001b[1;33m\u001b[0m\u001b[0m\n\u001b[0;32m   1772\u001b[0m             \u001b[0mcommon_norm\u001b[0m\u001b[1;33m=\u001b[0m\u001b[0mcommon_norm\u001b[0m\u001b[1;33m,\u001b[0m\u001b[1;33m\u001b[0m\u001b[1;33m\u001b[0m\u001b[0m\n",
      "\u001b[1;32mc:\\python\\lib\\site-packages\\seaborn\\distributions.py\u001b[0m in \u001b[0;36mplot_univariate_density\u001b[1;34m(self, multiple, common_norm, common_grid, warn_singular, fill, legend, estimate_kws, **plot_kws)\u001b[0m\n\u001b[0;32m    965\u001b[0m                             \u001b[0mdefault_color\u001b[0m \u001b[1;33m=\u001b[0m \u001b[1;34m\"C0\"\u001b[0m\u001b[1;33m\u001b[0m\u001b[1;33m\u001b[0m\u001b[0m\n\u001b[0;32m    966\u001b[0m                     \u001b[1;32melse\u001b[0m\u001b[1;33m:\u001b[0m\u001b[1;33m\u001b[0m\u001b[1;33m\u001b[0m\u001b[0m\n\u001b[1;32m--> 967\u001b[1;33m                         \u001b[0mscout\u001b[0m \u001b[1;33m=\u001b[0m \u001b[0mself\u001b[0m\u001b[1;33m.\u001b[0m\u001b[0max\u001b[0m\u001b[1;33m.\u001b[0m\u001b[0mfill_between\u001b[0m\u001b[1;33m(\u001b[0m\u001b[1;33m[\u001b[0m\u001b[1;33m]\u001b[0m\u001b[1;33m,\u001b[0m \u001b[1;33m[\u001b[0m\u001b[1;33m]\u001b[0m\u001b[1;33m,\u001b[0m \u001b[1;33m**\u001b[0m\u001b[0mplot_kws\u001b[0m\u001b[1;33m)\u001b[0m\u001b[1;33m\u001b[0m\u001b[1;33m\u001b[0m\u001b[0m\n\u001b[0m\u001b[0;32m    968\u001b[0m                         \u001b[0mdefault_color\u001b[0m \u001b[1;33m=\u001b[0m \u001b[0mtuple\u001b[0m\u001b[1;33m(\u001b[0m\u001b[0mscout\u001b[0m\u001b[1;33m.\u001b[0m\u001b[0mget_facecolor\u001b[0m\u001b[1;33m(\u001b[0m\u001b[1;33m)\u001b[0m\u001b[1;33m.\u001b[0m\u001b[0msqueeze\u001b[0m\u001b[1;33m(\u001b[0m\u001b[1;33m)\u001b[0m\u001b[1;33m)\u001b[0m\u001b[1;33m\u001b[0m\u001b[1;33m\u001b[0m\u001b[0m\n\u001b[0;32m    969\u001b[0m                     \u001b[0mplot_kws\u001b[0m\u001b[1;33m.\u001b[0m\u001b[0mpop\u001b[0m\u001b[1;33m(\u001b[0m\u001b[1;34m\"color\"\u001b[0m\u001b[1;33m,\u001b[0m \u001b[1;32mNone\u001b[0m\u001b[1;33m)\u001b[0m\u001b[1;33m\u001b[0m\u001b[1;33m\u001b[0m\u001b[0m\n",
      "\u001b[1;32mc:\\python\\lib\\site-packages\\matplotlib\\__init__.py\u001b[0m in \u001b[0;36minner\u001b[1;34m(ax, data, *args, **kwargs)\u001b[0m\n\u001b[0;32m   1410\u001b[0m     \u001b[1;32mdef\u001b[0m \u001b[0minner\u001b[0m\u001b[1;33m(\u001b[0m\u001b[0max\u001b[0m\u001b[1;33m,\u001b[0m \u001b[1;33m*\u001b[0m\u001b[0margs\u001b[0m\u001b[1;33m,\u001b[0m \u001b[0mdata\u001b[0m\u001b[1;33m=\u001b[0m\u001b[1;32mNone\u001b[0m\u001b[1;33m,\u001b[0m \u001b[1;33m**\u001b[0m\u001b[0mkwargs\u001b[0m\u001b[1;33m)\u001b[0m\u001b[1;33m:\u001b[0m\u001b[1;33m\u001b[0m\u001b[1;33m\u001b[0m\u001b[0m\n\u001b[0;32m   1411\u001b[0m         \u001b[1;32mif\u001b[0m \u001b[0mdata\u001b[0m \u001b[1;32mis\u001b[0m \u001b[1;32mNone\u001b[0m\u001b[1;33m:\u001b[0m\u001b[1;33m\u001b[0m\u001b[1;33m\u001b[0m\u001b[0m\n\u001b[1;32m-> 1412\u001b[1;33m             \u001b[1;32mreturn\u001b[0m \u001b[0mfunc\u001b[0m\u001b[1;33m(\u001b[0m\u001b[0max\u001b[0m\u001b[1;33m,\u001b[0m \u001b[1;33m*\u001b[0m\u001b[0mmap\u001b[0m\u001b[1;33m(\u001b[0m\u001b[0msanitize_sequence\u001b[0m\u001b[1;33m,\u001b[0m \u001b[0margs\u001b[0m\u001b[1;33m)\u001b[0m\u001b[1;33m,\u001b[0m \u001b[1;33m**\u001b[0m\u001b[0mkwargs\u001b[0m\u001b[1;33m)\u001b[0m\u001b[1;33m\u001b[0m\u001b[1;33m\u001b[0m\u001b[0m\n\u001b[0m\u001b[0;32m   1413\u001b[0m \u001b[1;33m\u001b[0m\u001b[0m\n\u001b[0;32m   1414\u001b[0m         \u001b[0mbound\u001b[0m \u001b[1;33m=\u001b[0m \u001b[0mnew_sig\u001b[0m\u001b[1;33m.\u001b[0m\u001b[0mbind\u001b[0m\u001b[1;33m(\u001b[0m\u001b[0max\u001b[0m\u001b[1;33m,\u001b[0m \u001b[1;33m*\u001b[0m\u001b[0margs\u001b[0m\u001b[1;33m,\u001b[0m \u001b[1;33m**\u001b[0m\u001b[0mkwargs\u001b[0m\u001b[1;33m)\u001b[0m\u001b[1;33m\u001b[0m\u001b[1;33m\u001b[0m\u001b[0m\n",
      "\u001b[1;32mc:\\python\\lib\\site-packages\\matplotlib\\axes\\_axes.py\u001b[0m in \u001b[0;36mfill_between\u001b[1;34m(self, x, y1, y2, where, interpolate, step, **kwargs)\u001b[0m\n\u001b[0;32m   5250\u001b[0m     def fill_between(self, x, y1, y2=0, where=None, interpolate=False,\n\u001b[0;32m   5251\u001b[0m                      step=None, **kwargs):\n\u001b[1;32m-> 5252\u001b[1;33m         return self._fill_between_x_or_y(\n\u001b[0m\u001b[0;32m   5253\u001b[0m             \u001b[1;34m\"x\"\u001b[0m\u001b[1;33m,\u001b[0m \u001b[0mx\u001b[0m\u001b[1;33m,\u001b[0m \u001b[0my1\u001b[0m\u001b[1;33m,\u001b[0m \u001b[0my2\u001b[0m\u001b[1;33m,\u001b[0m\u001b[1;33m\u001b[0m\u001b[1;33m\u001b[0m\u001b[0m\n\u001b[0;32m   5254\u001b[0m             where=where, interpolate=interpolate, step=step, **kwargs)\n",
      "\u001b[1;32mc:\\python\\lib\\site-packages\\matplotlib\\axes\\_axes.py\u001b[0m in \u001b[0;36m_fill_between_x_or_y\u001b[1;34m(self, ind_dir, ind, dep1, dep2, where, interpolate, step, **kwargs)\u001b[0m\n\u001b[0;32m   5236\u001b[0m             \u001b[0mpolys\u001b[0m\u001b[1;33m.\u001b[0m\u001b[0mappend\u001b[0m\u001b[1;33m(\u001b[0m\u001b[0mpts\u001b[0m\u001b[1;33m)\u001b[0m\u001b[1;33m\u001b[0m\u001b[1;33m\u001b[0m\u001b[0m\n\u001b[0;32m   5237\u001b[0m \u001b[1;33m\u001b[0m\u001b[0m\n\u001b[1;32m-> 5238\u001b[1;33m         \u001b[0mcollection\u001b[0m \u001b[1;33m=\u001b[0m \u001b[0mmcoll\u001b[0m\u001b[1;33m.\u001b[0m\u001b[0mPolyCollection\u001b[0m\u001b[1;33m(\u001b[0m\u001b[0mpolys\u001b[0m\u001b[1;33m,\u001b[0m \u001b[1;33m**\u001b[0m\u001b[0mkwargs\u001b[0m\u001b[1;33m)\u001b[0m\u001b[1;33m\u001b[0m\u001b[1;33m\u001b[0m\u001b[0m\n\u001b[0m\u001b[0;32m   5239\u001b[0m \u001b[1;33m\u001b[0m\u001b[0m\n\u001b[0;32m   5240\u001b[0m         \u001b[1;31m# now update the datalim and autoscale\u001b[0m\u001b[1;33m\u001b[0m\u001b[1;33m\u001b[0m\u001b[1;33m\u001b[0m\u001b[0m\n",
      "\u001b[1;32mc:\\python\\lib\\site-packages\\matplotlib\\collections.py\u001b[0m in \u001b[0;36m__init__\u001b[1;34m(self, verts, sizes, closed, **kwargs)\u001b[0m\n\u001b[0;32m   1185\u001b[0m             \u001b[0mForwarded\u001b[0m \u001b[0mto\u001b[0m\u001b[0;31m \u001b[0m\u001b[0;31m`\u001b[0m\u001b[1;33m.\u001b[0m\u001b[0mCollection\u001b[0m\u001b[0;31m`\u001b[0m\u001b[1;33m.\u001b[0m\u001b[1;33m\u001b[0m\u001b[1;33m\u001b[0m\u001b[0m\n\u001b[0;32m   1186\u001b[0m         \"\"\"\n\u001b[1;32m-> 1187\u001b[1;33m         \u001b[0msuper\u001b[0m\u001b[1;33m(\u001b[0m\u001b[1;33m)\u001b[0m\u001b[1;33m.\u001b[0m\u001b[0m__init__\u001b[0m\u001b[1;33m(\u001b[0m\u001b[1;33m**\u001b[0m\u001b[0mkwargs\u001b[0m\u001b[1;33m)\u001b[0m\u001b[1;33m\u001b[0m\u001b[1;33m\u001b[0m\u001b[0m\n\u001b[0m\u001b[0;32m   1188\u001b[0m         \u001b[0mself\u001b[0m\u001b[1;33m.\u001b[0m\u001b[0mset_sizes\u001b[0m\u001b[1;33m(\u001b[0m\u001b[0msizes\u001b[0m\u001b[1;33m)\u001b[0m\u001b[1;33m\u001b[0m\u001b[1;33m\u001b[0m\u001b[0m\n\u001b[0;32m   1189\u001b[0m         \u001b[0mself\u001b[0m\u001b[1;33m.\u001b[0m\u001b[0mset_verts\u001b[0m\u001b[1;33m(\u001b[0m\u001b[0mverts\u001b[0m\u001b[1;33m,\u001b[0m \u001b[0mclosed\u001b[0m\u001b[1;33m)\u001b[0m\u001b[1;33m\u001b[0m\u001b[1;33m\u001b[0m\u001b[0m\n",
      "\u001b[1;32mc:\\python\\lib\\site-packages\\matplotlib\\collections.py\u001b[0m in \u001b[0;36m__init__\u001b[1;34m(self, edgecolors, facecolors, linewidths, linestyles, capstyle, joinstyle, antialiaseds, offsets, transOffset, norm, cmap, pickradius, hatch, urls, zorder, **kwargs)\u001b[0m\n\u001b[0;32m    219\u001b[0m \u001b[1;33m\u001b[0m\u001b[0m\n\u001b[0;32m    220\u001b[0m         \u001b[0mself\u001b[0m\u001b[1;33m.\u001b[0m\u001b[0m_path_effects\u001b[0m \u001b[1;33m=\u001b[0m \u001b[1;32mNone\u001b[0m\u001b[1;33m\u001b[0m\u001b[1;33m\u001b[0m\u001b[0m\n\u001b[1;32m--> 221\u001b[1;33m         \u001b[0mself\u001b[0m\u001b[1;33m.\u001b[0m\u001b[0mupdate\u001b[0m\u001b[1;33m(\u001b[0m\u001b[0mkwargs\u001b[0m\u001b[1;33m)\u001b[0m\u001b[1;33m\u001b[0m\u001b[1;33m\u001b[0m\u001b[0m\n\u001b[0m\u001b[0;32m    222\u001b[0m         \u001b[0mself\u001b[0m\u001b[1;33m.\u001b[0m\u001b[0m_paths\u001b[0m \u001b[1;33m=\u001b[0m \u001b[1;32mNone\u001b[0m\u001b[1;33m\u001b[0m\u001b[1;33m\u001b[0m\u001b[0m\n\u001b[0;32m    223\u001b[0m \u001b[1;33m\u001b[0m\u001b[0m\n",
      "\u001b[1;32mc:\\python\\lib\\site-packages\\matplotlib\\artist.py\u001b[0m in \u001b[0;36mupdate\u001b[1;34m(self, props)\u001b[0m\n\u001b[0;32m   1062\u001b[0m                     \u001b[0mfunc\u001b[0m \u001b[1;33m=\u001b[0m \u001b[0mgetattr\u001b[0m\u001b[1;33m(\u001b[0m\u001b[0mself\u001b[0m\u001b[1;33m,\u001b[0m \u001b[1;34mf\"set_{k}\"\u001b[0m\u001b[1;33m,\u001b[0m \u001b[1;32mNone\u001b[0m\u001b[1;33m)\u001b[0m\u001b[1;33m\u001b[0m\u001b[1;33m\u001b[0m\u001b[0m\n\u001b[0;32m   1063\u001b[0m                     \u001b[1;32mif\u001b[0m \u001b[1;32mnot\u001b[0m \u001b[0mcallable\u001b[0m\u001b[1;33m(\u001b[0m\u001b[0mfunc\u001b[0m\u001b[1;33m)\u001b[0m\u001b[1;33m:\u001b[0m\u001b[1;33m\u001b[0m\u001b[1;33m\u001b[0m\u001b[0m\n\u001b[1;32m-> 1064\u001b[1;33m                         raise AttributeError(f\"{type(self).__name__!r} object \"\n\u001b[0m\u001b[0;32m   1065\u001b[0m                                              f\"has no property {k!r}\")\n\u001b[0;32m   1066\u001b[0m                     \u001b[0mret\u001b[0m\u001b[1;33m.\u001b[0m\u001b[0mappend\u001b[0m\u001b[1;33m(\u001b[0m\u001b[0mfunc\u001b[0m\u001b[1;33m(\u001b[0m\u001b[0mv\u001b[0m\u001b[1;33m)\u001b[0m\u001b[1;33m)\u001b[0m\u001b[1;33m\u001b[0m\u001b[1;33m\u001b[0m\u001b[0m\n",
      "\u001b[1;31mAttributeError\u001b[0m: 'PolyCollection' object has no property 'Label'"
     ]
    },
    {
     "data": {
      "image/png": "[encoded data removed]",
      "text/plain": [
       "<Figure size 432x288 with 1 Axes>"
      ]
     },
     "metadata": {
      "needs_background": "light"
     },
     "output_type": "display_data"
    }
   ],
   "source": [
    "total_uses = activity_distribution_generation(size)\n",
    "g = sns.kdeplot(total_uses, color='b', shade=True, Label='Iris_Virginica', cut=0, bw_adjust=0.2)\n",
    "g.set_xticks(range(0, 25, 2))\n",
    "g.set_xticklabels([str(x) for x in range(0, 25, 2)])\n",
    "g"
   ]
  },
  {
   "cell_type": "code",
   "execution_count": 2,
   "metadata": {
    "pycharm": {
     "name": "#%%\n"
    }
   },
   "outputs": [
    {
     "ename": "NameError",
     "evalue": "name 'product_instances' is not defined",
     "output_type": "error",
     "traceback": [
      "\u001b[1;31m---------------------------------------------------------------------------\u001b[0m",
      "\u001b[1;31mNameError\u001b[0m                                 Traceback (most recent call last)",
      "Input \u001b[1;32mIn [2]\u001b[0m, in \u001b[0;36m<cell line: 2>\u001b[1;34m()\u001b[0m\n\u001b[0;32m      1\u001b[0m \u001b[38;5;66;03m# total_minutes = from table\u001b[39;00m\n\u001b[1;32m----> 2\u001b[0m instances_and_costs \u001b[38;5;241m=\u001b[39m pd\u001b[38;5;241m.\u001b[39mmerge(\u001b[43mproduct_instances\u001b[49m, products, left_on\u001b[38;5;241m=\u001b[39m\u001b[38;5;124m'\u001b[39m\u001b[38;5;124mproduct_id\u001b[39m\u001b[38;5;124m'\u001b[39m, right_on\u001b[38;5;241m=\u001b[39m\u001b[38;5;124m'\u001b[39m\u001b[38;5;124mid\u001b[39m\u001b[38;5;124m'\u001b[39m)\n\u001b[0;32m      3\u001b[0m instances_and_costs[\u001b[38;5;124m'\u001b[39m\u001b[38;5;124mbusiness_product_instance_id\u001b[39m\u001b[38;5;124m'\u001b[39m] \u001b[38;5;241m=\u001b[39m instances_and_costs\u001b[38;5;241m.\u001b[39mindex\n\u001b[0;32m      4\u001b[0m instances_and_costs[\u001b[38;5;124m'\u001b[39m\u001b[38;5;124mvacant_sum\u001b[39m\u001b[38;5;124m'\u001b[39m] \u001b[38;5;241m=\u001b[39m instances_and_costs[\u001b[38;5;124m'\u001b[39m\u001b[38;5;124mexpenditure\u001b[39m\u001b[38;5;124m'\u001b[39m] \u001b[38;5;241m-\u001b[39m instances_and_costs[\u001b[38;5;124m'\u001b[39m\u001b[38;5;124mcumulative_charge\u001b[39m\u001b[38;5;124m'\u001b[39m]\n",
      "\u001b[1;31mNameError\u001b[0m: name 'product_instances' is not defined"
     ]
    }
   ],
   "source": [
    "# total_minutes = from table\n",
    "instances_and_costs = pd.merge(product_instances, products, left_on='product_id', right_on='id')\n",
    "instances_and_costs['business_product_instance_id'] = instances_and_costs.index\n",
    "instances_and_costs['vacant_sum'] = instances_and_costs['expenditure'] - instances_and_costs['cumulative_charge']\n",
    "instances_and_costs[instances_and_costs['vacant_sum'] < 0] = 0\n",
    "instances_and_costs.drop(['distribution_channel', 'status', 'name', 'recurrent', 'duration'], axis=1, inplace=True)\n",
    "\n",
    "# CALLS\n",
    "# Most unlimited accounts must be for businessmen. The average number of calls per day is 60, the average minutes number per day is 180. Source: https://www.salesbuzz.com/how-many-sales-calls-should-i-make-per-day/\n",
    "# The mobile phone calls median is 8. Source: https://www.pewresearch.org/internet/2010/09/02/cell-phones-and-american-adults/\n",
    "# Since no scientific papers regarding the distribution of phone calls number was fined, the average values are used and the duration is evenly spread\n",
    "# This generation is for the included calls, so the rounding of minutes does not matter\n",
    "calls_daily_median_regular = 5\n",
    "calls_daily_mean_unlimited_plans = 60\n",
    "calls_daily_mean_length_unlimited = 180 / 60\n",
    "calls_regular_total = instances_and_costs[(instances_and_costs['allowance_voice'] < sys.maxsize) & (instances_and_costs['allowance_voice'] > 0)].count()[0] * calls_daily_median_regular\n",
    "calls_unlimited_total = instances_and_costs[instances_and_costs['allowance_voice'] == sys.maxsize].count()[0] * calls_daily_mean_unlimited_plans\n",
    "total_calls_daily = calls_regular_total + calls_unlimited_total\n",
    "\n",
    "\n",
    "events_limited_calls = pd.DataFrame(np.repeat(instances_and_costs[(instances_and_costs['allowance_voice'] < sys.maxsize) & (instances_and_costs['allowance_voice'] > 0)].values, calls_daily_median_regular, axis=0), columns=instances_and_costs.columns)\n",
    "events_limited_calls['duration'] = events_limited_calls['allowance_voice'] / 31 / calls_daily_median_regular\n",
    "events_unlimited_calls = pd.DataFrame(np.repeat(instances_and_costs[instances_and_costs['allowance_voice'] == sys.maxsize].values, calls_daily_mean_unlimited_plans, axis=0), columns=instances_and_costs.columns)\n",
    "events_unlimited_calls['duration'] = calls_daily_mean_length_unlimited\n",
    "events = events_limited_calls.append(events_unlimited_calls)\n",
    "\n",
    "# GENERATION OF CALL EVENTS - COPY AN EVENT PROMPT TABLE FOR EACH DAY\n",
    "calls = []\n",
    "# The generation period is March 20\n",
    "for year in range(2018,2023):\n",
    "  print(year)\n",
    "  for month in range(1,13):\n",
    "    print('месяц:',month)\n",
    "    if month==2:\n",
    "        k=29      \n",
    "    else:\n",
    "        if month==4 or month==6 or month==9 or month==11 :\n",
    "            k=31\n",
    "        else:\n",
    "            k=32\n",
    "    print('!!!!',k)\n",
    "    for day in range(1, k):       \n",
    "        #print(day, end=' ')\n",
    "        calls_timestamps = pd.Series(activity_distribution_generation(total_calls_daily))\n",
    "        np.random.shuffle(calls_timestamps)\n",
    "        calls_timestamps = datetime(year, month, day) + pd.TimedeltaIndex(calls_timestamps, unit='h')\n",
    "        current = events.copy()\n",
    "        current['date'] = calls_timestamps\n",
    "        calls.append(current)\n",
    "# CREATE ONE DATAFRAME FROM THE CALLS ARRAY\n",
    "\n",
    "calls_events = calls[0]\n",
    "for i in range(1, len(calls)):\n",
    "    calls_events = calls_events.append(calls[i])\n",
    "\n",
    "calls_events['cost'] = 0\n",
    "calls_events['number_of_sms'] = 0\n",
    "calls_events['total_volume'] = 0\n",
    "calls_events['event_type'] = 'call'\n",
    "\n",
    "calls_events.head()\n",
    "\n",
    "\n",
    "# DATA\n",
    "# SMS\n",
    "\n",
    "# instances_and_costs.head()"
   ]
  },
  {
   "cell_type": "code",
   "execution_count": 74,
   "metadata": {
    "pycharm": {
     "name": "#%%\n"
    }
   },
   "outputs": [
    {
     "name": "stdout",
     "output_type": "stream",
     "text": [
      "2018\n",
      "1 "
     ]
    },
    {
     "name": "stderr",
     "output_type": "stream",
     "text": [
      "C:\\Users\\ivan-\\AppData\\Local\\Temp/ipykernel_12296/3792414909.py:33: UserWarning: you are shuffling a 'Series' object which is not a subclass of 'Sequence'; `shuffle` is not guaranteed to behave correctly. E.g., non-numpy array/tensor objects with view semantics may contain duplicates after shuffling.\n",
      "  np.random.shuffle(data_timestamps)\n"
     ]
    },
    {
     "ename": "ValueError",
     "evalue": "Length of values (68505) does not match length of index (46835)",
     "output_type": "error",
     "traceback": [
      "\u001b[1;31m---------------------------------------------------------------------------\u001b[0m",
      "\u001b[1;31mValueError\u001b[0m                                Traceback (most recent call last)",
      "\u001b[1;32m~\\AppData\\Local\\Temp/ipykernel_12296/3792414909.py\u001b[0m in \u001b[0;36m<module>\u001b[1;34m\u001b[0m\n\u001b[0;32m     34\u001b[0m         \u001b[0mdata_timestamps\u001b[0m \u001b[1;33m=\u001b[0m \u001b[0mdatetime\u001b[0m\u001b[1;33m(\u001b[0m\u001b[0myear\u001b[0m\u001b[1;33m,\u001b[0m \u001b[0mmonth\u001b[0m\u001b[1;33m,\u001b[0m \u001b[0mday\u001b[0m\u001b[1;33m)\u001b[0m \u001b[1;33m+\u001b[0m \u001b[0mpd\u001b[0m\u001b[1;33m.\u001b[0m\u001b[0mTimedeltaIndex\u001b[0m\u001b[1;33m(\u001b[0m\u001b[0mcalls_timestamps\u001b[0m\u001b[1;33m,\u001b[0m \u001b[0munit\u001b[0m\u001b[1;33m=\u001b[0m\u001b[1;34m'h'\u001b[0m\u001b[1;33m)\u001b[0m\u001b[1;33m\u001b[0m\u001b[1;33m\u001b[0m\u001b[0m\n\u001b[0;32m     35\u001b[0m         \u001b[0mcurrent\u001b[0m \u001b[1;33m=\u001b[0m \u001b[0mevents\u001b[0m\u001b[1;33m.\u001b[0m\u001b[0mcopy\u001b[0m\u001b[1;33m(\u001b[0m\u001b[1;33m)\u001b[0m\u001b[1;33m\u001b[0m\u001b[1;33m\u001b[0m\u001b[0m\n\u001b[1;32m---> 36\u001b[1;33m         \u001b[0mcurrent\u001b[0m\u001b[1;33m[\u001b[0m\u001b[1;34m'date'\u001b[0m\u001b[1;33m]\u001b[0m \u001b[1;33m=\u001b[0m \u001b[0mdata_timestamps\u001b[0m\u001b[1;33m\u001b[0m\u001b[1;33m\u001b[0m\u001b[0m\n\u001b[0m\u001b[0;32m     37\u001b[0m         \u001b[0mdata_accesses\u001b[0m\u001b[1;33m.\u001b[0m\u001b[0mappend\u001b[0m\u001b[1;33m(\u001b[0m\u001b[0mcurrent\u001b[0m\u001b[1;33m)\u001b[0m\u001b[1;33m\u001b[0m\u001b[1;33m\u001b[0m\u001b[0m\n\u001b[0;32m     38\u001b[0m \u001b[1;31m# CREATE ONE DATAFRAME FROM THE data ARRAY\u001b[0m\u001b[1;33m\u001b[0m\u001b[1;33m\u001b[0m\u001b[1;33m\u001b[0m\u001b[0m\n",
      "\u001b[1;32mc:\\python\\lib\\site-packages\\pandas\\core\\frame.py\u001b[0m in \u001b[0;36m__setitem__\u001b[1;34m(self, key, value)\u001b[0m\n\u001b[0;32m   3610\u001b[0m         \u001b[1;32melse\u001b[0m\u001b[1;33m:\u001b[0m\u001b[1;33m\u001b[0m\u001b[1;33m\u001b[0m\u001b[0m\n\u001b[0;32m   3611\u001b[0m             \u001b[1;31m# set column\u001b[0m\u001b[1;33m\u001b[0m\u001b[1;33m\u001b[0m\u001b[1;33m\u001b[0m\u001b[0m\n\u001b[1;32m-> 3612\u001b[1;33m             \u001b[0mself\u001b[0m\u001b[1;33m.\u001b[0m\u001b[0m_set_item\u001b[0m\u001b[1;33m(\u001b[0m\u001b[0mkey\u001b[0m\u001b[1;33m,\u001b[0m \u001b[0mvalue\u001b[0m\u001b[1;33m)\u001b[0m\u001b[1;33m\u001b[0m\u001b[1;33m\u001b[0m\u001b[0m\n\u001b[0m\u001b[0;32m   3613\u001b[0m \u001b[1;33m\u001b[0m\u001b[0m\n\u001b[0;32m   3614\u001b[0m     \u001b[1;32mdef\u001b[0m \u001b[0m_setitem_slice\u001b[0m\u001b[1;33m(\u001b[0m\u001b[0mself\u001b[0m\u001b[1;33m,\u001b[0m \u001b[0mkey\u001b[0m\u001b[1;33m:\u001b[0m \u001b[0mslice\u001b[0m\u001b[1;33m,\u001b[0m \u001b[0mvalue\u001b[0m\u001b[1;33m)\u001b[0m\u001b[1;33m:\u001b[0m\u001b[1;33m\u001b[0m\u001b[1;33m\u001b[0m\u001b[0m\n",
      "\u001b[1;32mc:\\python\\lib\\site-packages\\pandas\\core\\frame.py\u001b[0m in \u001b[0;36m_set_item\u001b[1;34m(self, key, value)\u001b[0m\n\u001b[0;32m   3782\u001b[0m         \u001b[0mensure\u001b[0m \u001b[0mhomogeneity\u001b[0m\u001b[1;33m.\u001b[0m\u001b[1;33m\u001b[0m\u001b[1;33m\u001b[0m\u001b[0m\n\u001b[0;32m   3783\u001b[0m         \"\"\"\n\u001b[1;32m-> 3784\u001b[1;33m         \u001b[0mvalue\u001b[0m \u001b[1;33m=\u001b[0m \u001b[0mself\u001b[0m\u001b[1;33m.\u001b[0m\u001b[0m_sanitize_column\u001b[0m\u001b[1;33m(\u001b[0m\u001b[0mvalue\u001b[0m\u001b[1;33m)\u001b[0m\u001b[1;33m\u001b[0m\u001b[1;33m\u001b[0m\u001b[0m\n\u001b[0m\u001b[0;32m   3785\u001b[0m \u001b[1;33m\u001b[0m\u001b[0m\n\u001b[0;32m   3786\u001b[0m         if (\n",
      "\u001b[1;32mc:\\python\\lib\\site-packages\\pandas\\core\\frame.py\u001b[0m in \u001b[0;36m_sanitize_column\u001b[1;34m(self, value)\u001b[0m\n\u001b[0;32m   4507\u001b[0m \u001b[1;33m\u001b[0m\u001b[0m\n\u001b[0;32m   4508\u001b[0m         \u001b[1;32mif\u001b[0m \u001b[0mis_list_like\u001b[0m\u001b[1;33m(\u001b[0m\u001b[0mvalue\u001b[0m\u001b[1;33m)\u001b[0m\u001b[1;33m:\u001b[0m\u001b[1;33m\u001b[0m\u001b[1;33m\u001b[0m\u001b[0m\n\u001b[1;32m-> 4509\u001b[1;33m             \u001b[0mcom\u001b[0m\u001b[1;33m.\u001b[0m\u001b[0mrequire_length_match\u001b[0m\u001b[1;33m(\u001b[0m\u001b[0mvalue\u001b[0m\u001b[1;33m,\u001b[0m \u001b[0mself\u001b[0m\u001b[1;33m.\u001b[0m\u001b[0mindex\u001b[0m\u001b[1;33m)\u001b[0m\u001b[1;33m\u001b[0m\u001b[1;33m\u001b[0m\u001b[0m\n\u001b[0m\u001b[0;32m   4510\u001b[0m         \u001b[1;32mreturn\u001b[0m \u001b[0msanitize_array\u001b[0m\u001b[1;33m(\u001b[0m\u001b[0mvalue\u001b[0m\u001b[1;33m,\u001b[0m \u001b[0mself\u001b[0m\u001b[1;33m.\u001b[0m\u001b[0mindex\u001b[0m\u001b[1;33m,\u001b[0m \u001b[0mcopy\u001b[0m\u001b[1;33m=\u001b[0m\u001b[1;32mTrue\u001b[0m\u001b[1;33m,\u001b[0m \u001b[0mallow_2d\u001b[0m\u001b[1;33m=\u001b[0m\u001b[1;32mTrue\u001b[0m\u001b[1;33m)\u001b[0m\u001b[1;33m\u001b[0m\u001b[1;33m\u001b[0m\u001b[0m\n\u001b[0;32m   4511\u001b[0m \u001b[1;33m\u001b[0m\u001b[0m\n",
      "\u001b[1;32mc:\\python\\lib\\site-packages\\pandas\\core\\common.py\u001b[0m in \u001b[0;36mrequire_length_match\u001b[1;34m(data, index)\u001b[0m\n\u001b[0;32m    529\u001b[0m     \"\"\"\n\u001b[0;32m    530\u001b[0m     \u001b[1;32mif\u001b[0m \u001b[0mlen\u001b[0m\u001b[1;33m(\u001b[0m\u001b[0mdata\u001b[0m\u001b[1;33m)\u001b[0m \u001b[1;33m!=\u001b[0m \u001b[0mlen\u001b[0m\u001b[1;33m(\u001b[0m\u001b[0mindex\u001b[0m\u001b[1;33m)\u001b[0m\u001b[1;33m:\u001b[0m\u001b[1;33m\u001b[0m\u001b[1;33m\u001b[0m\u001b[0m\n\u001b[1;32m--> 531\u001b[1;33m         raise ValueError(\n\u001b[0m\u001b[0;32m    532\u001b[0m             \u001b[1;34m\"Length of values \"\u001b[0m\u001b[1;33m\u001b[0m\u001b[1;33m\u001b[0m\u001b[0m\n\u001b[0;32m    533\u001b[0m             \u001b[1;34mf\"({len(data)}) \"\u001b[0m\u001b[1;33m\u001b[0m\u001b[1;33m\u001b[0m\u001b[0m\n",
      "\u001b[1;31mValueError\u001b[0m: Length of values (68505) does not match length of index (46835)"
     ]
    }
   ],
   "source": [
    "# Source: https://www.statista.com/statistics/1050339/average-unlocks-per-day-us-smartphone-users/\n",
    "unlocks_daily_mean_regular = 5\n",
    "# unlocks_daily_mean_unlimited = 180 / 60\n",
    "maxsize = products['allowance_data'].max()\n",
    "\n",
    "internet_accesses_regular_total = instances_and_costs[(instances_and_costs['allowance_data'] < maxsize) & (instances_and_costs['allowance_data'] > 0)].count()[0] * unlocks_daily_mean_regular\n",
    "internet_accesses_unlimited_total = instances_and_costs[instances_and_costs['allowance_data'] == maxsize].count()[0] * unlocks_daily_mean_regular\n",
    "total_internet_access_number_daily = internet_accesses_regular_total + internet_accesses_unlimited_total\n",
    "\n",
    "\n",
    "events_limited_data = pd.DataFrame(np.repeat(instances_and_costs[(instances_and_costs['allowance_data'] < maxsize) & (instances_and_costs['allowance_data'] > 0)].values, unlocks_daily_mean_regular, axis=0), columns=instances_and_costs.columns)\n",
    "events_limited_data['total_volume'] = events_limited_data['allowance_data'] / 31 / unlocks_daily_mean_regular\n",
    "events_unlimited_data = pd.DataFrame(np.repeat(instances_and_costs[instances_and_costs['allowance_data'] == maxsize].values, unlocks_daily_mean_regular, axis=0), columns=instances_and_costs.columns)\n",
    "events_unlimited_data['total_volume'] = events_limited_data['allowance_data'] / 31 / unlocks_daily_mean_regular\n",
    "events = events_limited_data.append(events_unlimited_data)\n",
    "\n",
    "# GENERATION OF data EVENTS - COPY AN EVENT PROMPT TABLE FOR EACH DAY\n",
    "data_accesses = []\n",
    "# The generation period is March 20\n",
    "for year in range(2018,2023):\n",
    "  print(year)\n",
    "  for month in range(1,13):\n",
    "    if month==2:\n",
    "        k=28\n",
    "    else:    \n",
    "        if month//2==0:\n",
    "            k=31\n",
    "        else:\n",
    "            k=32\n",
    "    for day in range(1, 32):\n",
    "        print(day, end=' ')\n",
    "        data_timestamps = pd.Series(activity_distribution_generation(total_internet_access_number_daily))\n",
    "        np.random.shuffle(data_timestamps)\n",
    "        data_timestamps = datetime(year, month, day) + pd.TimedeltaIndex(calls_timestamps, unit='h')\n",
    "        current = events.copy()\n",
    "        current['date'] = data_timestamps\n",
    "        data_accesses.append(current)\n",
    "# CREATE ONE DATAFRAME FROM THE data ARRAY\n",
    "data_events = data_accesses[0]\n",
    "for i in range(1, len(data_accesses)):\n",
    "    data_events = data_events.append(data_accesses[i])\n",
    "\n",
    "data_events['cost'] = 0\n",
    "data_events['number_of_sms'] = 0\n",
    "data_events['duration'] = 0\n",
    "data_events['event_type'] = 'data'\n",
    "print(data_events.shape[0] == total_internet_access_number_daily * 31)"
   ]
  },
  {
   "cell_type": "code",
   "execution_count": null,
   "metadata": {
    "pycharm": {
     "name": "#%%\n"
    }
   },
   "outputs": [],
   "source": [
    "events_0 = calls_events.append(data_events)\n",
    "events_0['calling_msisdn'] = events_0['customer_id']\n",
    "cols_to_drop = ['vacant_sum', 'cumulative_charge', 'customer_id', 'product_id', 'expenditure', 'activation_date', 'termination_date', 'category', 'type', 'cost_for_call', 'cost_for_sms', 'cost_for_data', 'allowance_sms', 'allowance_voice', 'allowance_data']\n",
    "print('here')\n",
    "for col in cols_to_drop:\n",
    "    print(col)\n",
    "    events_0.pop(col)\n",
    "# calls_events['event_id'] = np.arange(len(calls_events))\n",
    "# calls_events['direction'] = 'outcoming'\n",
    "# calls_events['roaming'] = np.random.choice([True, False], size=calls_events.count()[0], p=[0.1 ,0.9])\n",
    "# calls_events['called_msisdn'] = -1"
   ]
  },
  {
   "cell_type": "code",
   "execution_count": null,
   "metadata": {
    "pycharm": {
     "name": "#%%\n"
    }
   },
   "outputs": [],
   "source": [
    "\n",
    "\n",
    "df2 = product_instances[product_instances['product_id'].isin([range(3)])]\n",
    "df2_1 = df2[df2['product_id'] == 0]\n",
    "events2_3 = pd.DataFrame({\n",
    "    'business_product_instance_id': df2_1['product_id'],\n",
    "    'cost': df2_1['expenditure'] - 34.5,\n",
    "    'duration': 0,\n",
    "    'number_of_sms': (df2_1['expenditure'] - 34.5) // 0.25,\n",
    "    'total_volume': 0,\n",
    "    'event_type': 'sms',\n",
    "})\n",
    "\n",
    "df2_2 = df2[df2['product_id'] == 1]\n",
    "events2_4 = pd.DataFrame({\n",
    "    'business_product_instance_id': df2_2['product_id'],\n",
    "    'cost': df2_2['expenditure'] - 126.5,\n",
    "    'duration': 0,\n",
    "    'number_of_sms': (df2_2['expenditure'] - 126.5) // 0.25,\n",
    "    'total_volume': 0,\n",
    "    'event_type': 'sms',\n",
    "})\n",
    "\n",
    "df2_3 = df2[df2['product_id'] == 2]\n",
    "events2_5 = pd.DataFrame({\n",
    "    'business_product_instance_id': df2_3['product_id'],\n",
    "    'cost': df2_3['expenditure'] - 253.0,\n",
    "    'duration': 0,\n",
    "    'number_of_sms': (df2_3['expenditure'] - 253.0) // 0.25,\n",
    "    'total_volume': 0,\n",
    "    'event_type': 'sms',\n",
    "})\n",
    "\n",
    "df3 = product_instances[product_instances['product_id'].isin([24, 25])]\n",
    "df3_1 = df3[df3['product_id'] == 24]\n",
    "events3_3 = pd.DataFrame({\n",
    "    'business_product_instance_id': df3_1['product_id'],\n",
    "    'cost': df3_1['expenditure'] - 80.5,\n",
    "    'duration': 0,\n",
    "    'number_of_sms': (df3_1['expenditure'] - 80.5) // 0.285,\n",
    "    'total_volume': 0,\n",
    "    'event_type': 'sms',\n",
    "})\n",
    "\n",
    "df3_2 = df3[df3['product_id'] == 25]\n",
    "events3_4 = pd.DataFrame({\n",
    "    'business_product_instance_id': df3_2['product_id'],\n",
    "    'cost': df3_2['expenditure'] - 517.5,\n",
    "    'duration': 0,\n",
    "    'number_of_sms': (df3_2['expenditure'] - 517.5) // 0.285,\n",
    "    'total_volume': 0,\n",
    "    'event_type': 'sms',\n",
    "})\n",
    "\n",
    "\n",
    "events = pd.concat([events2_3, events2_4, events2_5, events3_3, events3_4], axis=0)\n",
    "dates = []\n",
    "for _ in range(events.count()[0]):\n",
    "    dates.append(random_date(\"2018-01-01\", str(date.today()), random.random()))\n",
    "events['date'] = pd.Series(dates)\n",
    "events['calling_msisdn'] = -1\n",
    "\n",
    "events = pd.concat([events, events_0], axis=0)\n",
    "events['event_id'] = np.arange(len(events))\n",
    "events['direction'] = 'outcoming'\n",
    "events['roaming'] = np.random.choice([True, False], size=events.count()[0], p=[0.1 ,0.9])\n",
    "events['called_msisdn'] = -1\n",
    "print(events.count())\n",
    "events.head()"
   ]
  },
  {
   "cell_type": "code",
   "execution_count": null,
   "metadata": {
    "pycharm": {
     "name": "#%%\n"
    }
   },
   "outputs": [],
   "source": [
    "'''number_of_chunks = 5\n",
    "for id, df_i in enumerate(np.array_split(events, number_of_chunks)):\n",
    "    df_i.to_csv(f'tests_costed_events_{id}.csv')'''\n",
    "\n",
    "\n",
    "\n",
    "events.to_csv('costed_events_last.csv')"
   ]
  },
  {
   "cell_type": "code",
   "execution_count": null,
   "metadata": {
    "pycharm": {
     "name": "#%%\n"
    }
   },
   "outputs": [],
   "source": [
    "# df1 = product_instances[product_instances['product_id'].isin([range(3,9)])]\n",
    "# events1 = pd.DataFrame({\n",
    "#     'business_product_instance_id': df1['product_id'],\n",
    "#     'cost': 0,\n",
    "#     'duration': 0,\n",
    "#     'number_of_sms': 0,\n",
    "#     'total_volume': np.random.randint(1, 10, df1.count()[0]) * 10e6,\n",
    "#     'event_type': 'data',\n",
    "# })\n",
    "#\n",
    "# df2 = product_instances[product_instances['product_id'].isin([range(3)])]\n",
    "# events2_1 = pd.DataFrame({\n",
    "#     'business_product_instance_id': df2['product_id'],\n",
    "#     'cost': 0,\n",
    "#     'duration': np.random.randint(1, 100, df2.count()[0]),\n",
    "#     'number_of_sms': 0,\n",
    "#     'total_volume': 0,\n",
    "#     'event_type': 'call',\n",
    "# })\n",
    "#\n",
    "# events2_2 = pd.DataFrame({\n",
    "#     'business_product_instance_id': df2['product_id'],\n",
    "#     'cost': 0,\n",
    "#     'duration': 0,\n",
    "#     'number_of_sms': 0,\n",
    "#     'total_volume': np.random.randint(1, 10, df2.count()[0]) * 10e4,\n",
    "#     'event_type': 'data',\n",
    "# })\n",
    "#\n",
    "# df2_1 = df2[df2['product_id'] == 0]\n",
    "# events2_3 = pd.DataFrame({\n",
    "#     'business_product_instance_id': df2_1['product_id'],\n",
    "#     'cost': df2_1['expenditure'] - 34.5,\n",
    "#     'duration': 0,\n",
    "#     'number_of_sms': (df2_1['expenditure'] - 34.5) // 0.25,\n",
    "#     'total_volume': 0,\n",
    "#     'event_type': 'sms',\n",
    "# })\n",
    "#\n",
    "# df2_2 = df2[df2['product_id'] == 1]\n",
    "# events2_4 = pd.DataFrame({\n",
    "#     'business_product_instance_id': df2_2['product_id'],\n",
    "#     'cost': df2_2['expenditure'] - 126.5,\n",
    "#     'duration': 0,\n",
    "#     'number_of_sms': (df2_2['expenditure'] - 126.5) // 0.25,\n",
    "#     'total_volume': 0,\n",
    "#     'event_type': 'sms',\n",
    "# })\n",
    "#\n",
    "# df2_3 = df2[df2['product_id'] == 2]\n",
    "# events2_5 = pd.DataFrame({\n",
    "#     'business_product_instance_id': df2_3['product_id'],\n",
    "#     'cost': df2_3['expenditure'] - 253.0,\n",
    "#     'duration': 0,\n",
    "#     'number_of_sms': (df2_3['expenditure'] - 253.0) // 0.25,\n",
    "#     'total_volume': 0,\n",
    "#     'event_type': 'sms',\n",
    "# })\n",
    "#\n",
    "# df3 = product_instances[product_instances['product_id'].isin([24, 25])]\n",
    "# events3_1 = pd.DataFrame({\n",
    "#     'business_product_instance_id': df3['product_id'],\n",
    "#     'cost': 0,\n",
    "#     'duration': np.random.randint(1, 100, df3.count()[0]),\n",
    "#     'number_of_sms': 0,\n",
    "#     'total_volume': 0,\n",
    "#     'event_type': 'call',\n",
    "# })\n",
    "#\n",
    "# events3_2 = pd.DataFrame({\n",
    "#     'business_product_instance_id': df3['product_id'],\n",
    "#     'cost': 0,\n",
    "#     'duration': 0,\n",
    "#     'number_of_sms': 0,\n",
    "#     'total_volume': np.random.randint(1, 10, df3.count()[0]) * 10e4,\n",
    "#     'event_type': 'data',\n",
    "# })\n",
    "#\n",
    "# df3_1 = df3[df3['product_id'] == 24]\n",
    "# events3_3 = pd.DataFrame({\n",
    "#     'business_product_instance_id': df3_1['product_id'],\n",
    "#     'cost': df3_1['expenditure'] - 80.5,\n",
    "#     'duration': 0,\n",
    "#     'number_of_sms': (df3_1['expenditure'] - 80.5) // 0.285,\n",
    "#     'total_volume': 0,\n",
    "#     'event_type': 'sms',\n",
    "# })\n",
    "#\n",
    "# df3_2 = df3[df3['product_id'] == 25]\n",
    "# events3_4 = pd.DataFrame({\n",
    "#     'business_product_instance_id': df3_2['product_id'],\n",
    "#     'cost': df3_2['expenditure'] - 517.5,\n",
    "#     'duration': 0,\n",
    "#     'number_of_sms': (df3_2['expenditure'] - 517.5) // 0.285,\n",
    "#     'total_volume': 0,\n",
    "#     'event_type': 'sms',\n",
    "# })\n",
    "#\n",
    "#\n",
    "# events = pd.concat([value for key, value in globals().items() if key.startswith('event')], axis=0)\n",
    "#\n",
    "# events['event_id'] = np.arange(len(events))\n",
    "# dates = []\n",
    "# for _ in range(events.count()[0]):\n",
    "#     dates.append(random_date(\"2022-03-01\", \"2022-03-31\", random.random()))\n",
    "# events['date'] = pd.Series(dates)\n",
    "#\n",
    "# events['direction'] = 'outcoming'\n",
    "# events['roaming'] = np.random.choice([True, False], size=events.count()[0], p=[0.1 ,0.9])\n",
    "# events['calling_msisdn'] = -1\n",
    "# events['called_msisdn'] = -1\n",
    "# events.head()"
   ]
  },
  {
   "cell_type": "code",
   "execution_count": null,
   "metadata": {
    "pycharm": {
     "name": "#%%\n"
    }
   },
   "outputs": [],
   "source": [
    "product_instances.pop('expenditure')\n",
    "product_instances.to_csv('business_product_instances_last.csv')"
   ]
  }
 ],
 "metadata": {
  "kernelspec": {
   "display_name": "Python 3 (ipykernel)",
   "language": "python",
   "name": "python3"
  },
  "language_info": {
   "codemirror_mode": {
    "name": "ipython",
    "version": 3
   },
   "file_extension": ".py",
   "mimetype": "text/x-python",
   "name": "python",
   "nbconvert_exporter": "python",
   "pygments_lexer": "ipython3",
   "version": "3.10.0"
  }
 },
 "nbformat": 4,
 "nbformat_minor": 1
}
