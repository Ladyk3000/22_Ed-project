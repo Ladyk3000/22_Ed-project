{
 "cells": [
  {
   "cell_type": "code",
   "execution_count": null,
   "id": "84ab8f97",
   "metadata": {},
   "outputs": [],
   "source": [
    "import numpy as np\n",
    "from datetime import datetime,timedelta, date\n",
    "import warnings\n",
    "import pandas as pd\n",
    "import random\n",
    "from matplotlib import pyplot as plt \n",
    "\n",
    "warnings.simplefilter(action='ignore', category=FutureWarning)"
   ]
  },
  {
   "cell_type": "code",
   "execution_count": null,
   "id": "4c3f716d",
   "metadata": {},
   "outputs": [],
   "source": [
    "def generate_Date(count):\n",
    "    Date = []\n",
    "    starttime = min_date = date(2020, 1, 1)\n",
    "    days_ago = []\n",
    "    for j in range(870):\n",
    "         days_ago.append(j)\n",
    "    \n",
    "    #print(days_ago)\n",
    "    if type(starttime) == type('rrr'):\n",
    "        a = datetime.strptime(starttime,'%Y-%m-%d').date()\n",
    "    else:\n",
    "            a = starttime\n",
    "\n",
    "    for i in range(count):\n",
    "        day_ = a + timedelta(days=random.choice(days_ago))\n",
    "        Date.append(day_.strftime(\"%Y-%m-%d\"))\n",
    "        \n",
    "    return Date\n",
    "\n",
    "def generate_Payment_ID(count):\n",
    "    payment_ID_list = np.arange(count)\n",
    "    x = np.random.shuffle(payment_ID_list)\n",
    "    return (payment_ID_list)\n",
    "\n",
    "def generate_ID(count, population):\n",
    "    Customer_ID_list = []\n",
    "    for i in range(count):\n",
    "        Customer_ID_list.append(random.randint(0,population))\n",
    "    x = np.random.shuffle(Customer_ID_list)\n",
    "    return (Customer_ID_list)\n",
    "\n",
    "def generate_Payment_Method(count):\n",
    "    Method = []\n",
    "    for i in range(count):\n",
    "        k = random.randint(0,20)\n",
    "        Method.append(np.random.choice(['Card','Cash'], p =[0.7 + k/100, 0.3-k/100]))\n",
    "    return (Method)\n",
    "\n",
    "def generate_Amount(count):\n",
    "    amount = np.random.normal(loc=145, scale=25, size=count)\n",
    "    np.random.shuffle(amount)\n",
    "    amount = list(map(int,amount))\n",
    "    return(amount)\n",
    "\n",
    "\n",
    "population = 10000\n",
    "k = 15 \n",
    "count = int(population * k)\n",
    "\n",
    "payment_dataframe = pd.DataFrame()\n",
    "\n",
    "payment_dataframe['Payment_ID'] = generate_Payment_ID(count)\n",
    "payment_dataframe['Customer_ID'] = generate_ID(count, population)\n",
    "payment_dataframe['Payment_method'] = generate_Payment_Method(count)\n",
    "payment_dataframe['Date'] = generate_Date(count)\n",
    "payment_dataframe['Amount'] = generate_Amount(count)"
   ]
  },
  {
   "cell_type": "code",
   "execution_count": null,
   "id": "b3e15b02",
   "metadata": {},
   "outputs": [],
   "source": [
    "#plt.hist(payment_dataframe['Date'], bins=24);\n",
    "#plt.show()\n",
    "print(payment_dataframe)\n",
    "payment_dataframe.to_csv('Payment.csv', sep=',')"
   ]
  }
 ],
 "metadata": {
  "kernelspec": {
   "display_name": "Python 3 (ipykernel)",
   "language": "python",
   "name": "python3"
  },
  "language_info": {
   "codemirror_mode": {
    "name": "ipython",
    "version": 3
   },
   "file_extension": ".py",
   "mimetype": "text/x-python",
   "name": "python",
   "nbconvert_exporter": "python",
   "pygments_lexer": "ipython3",
   "version": "3.10.0"
  }
 },
 "nbformat": 4,
 "nbformat_minor": 5
}
